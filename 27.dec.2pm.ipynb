{
 "cells": [
  {
   "cell_type": "code",
   "execution_count": 1,
   "id": "8bbc947d",
   "metadata": {},
   "outputs": [],
   "source": [
    "import numpy as np\n",
    "import pandas as pd\n",
    "import nltk\n",
    "from nltk.corpus import stopwords\n",
    "from textblob import TextBlob\n",
    "import re\n",
    "import matplotlib.pyplot as plt\n",
    "import seaborn as sns\n",
    "from bidi.algorithm import get_display\n",
    "import arabic_reshaper\n",
    "from nltk.tag import pos_tag\n",
    "from nltk.chunk import ne_chunk\n",
    "from nltk.stem.lancaster import LancasterStemmer\n",
    "from nltk.stem import SnowballStemmer\n",
    "from nltk.stem.isri import ISRIStemmer\n",
    "\n",
    "from sklearn.model_selection import train_test_split\n",
    "from sklearn.linear_model import LinearRegression, Ridge \n",
    "from sklearn.model_selection import cross_val_score\n",
    "from sklearn.neighbors import KNeighborsClassifier\n",
    "from sklearn.linear_model import LogisticRegression\n",
    "from imblearn.over_sampling import SMOTE\n",
    "from sklearn.tree import DecisionTreeClassifier\n",
    "from sklearn.metrics import precision_score, recall_score, precision_recall_curve,f1_score, fbeta_score\n",
    "from sklearn.metrics import classification_report\n",
    "\n",
    "\n",
    "\n",
    "from sklearn.preprocessing import LabelEncoder  \n",
    "\n",
    "from wordcloud import WordCloud "
   ]
  },
  {
   "cell_type": "code",
   "execution_count": 2,
   "id": "ffcf5535",
   "metadata": {},
   "outputs": [],
   "source": [
    "import warnings\n",
    "warnings.filterwarnings('ignore')"
   ]
  },
  {
   "cell_type": "code",
   "execution_count": 3,
   "id": "11617280",
   "metadata": {},
   "outputs": [],
   "source": [
    "data = pd.read_csv('data_mr.cvs', index_col=0)"
   ]
  },
  {
   "cell_type": "code",
   "execution_count": 100,
   "id": "8be34f00",
   "metadata": {},
   "outputs": [
    {
     "name": "stdout",
     "output_type": "stream",
     "text": [
      "<class 'pandas.core.frame.DataFrame'>\n",
      "Int64Index: 351 entries, 0 to 350\n",
      "Data columns (total 16 columns):\n",
      " #   Column         Non-Null Count  Dtype \n",
      "---  ------         --------------  ----- \n",
      " 0   links          351 non-null    object\n",
      " 1   court          351 non-null    object\n",
      " 2   court_id       351 non-null    object\n",
      " 3   court_date     351 non-null    object\n",
      " 4   appeal_court   307 non-null    object\n",
      " 5   appeal_id      307 non-null    object\n",
      " 6   appeal_date    274 non-null    object\n",
      " 7   region         274 non-null    object\n",
      " 8   city           318 non-null    object\n",
      " 9   judgment_text  351 non-null    object\n",
      " 10  appeal_text    274 non-null    object\n",
      " 11  appeal_data    33 non-null     object\n",
      " 12  appleal_text   33 non-null     object\n",
      " 13  Verdict        351 non-null    object\n",
      " 14  incident       351 non-null    object\n",
      " 15  court_y        351 non-null    object\n",
      "dtypes: object(16)\n",
      "memory usage: 54.7+ KB\n"
     ]
    }
   ],
   "source": [
    "data.info()"
   ]
  },
  {
   "cell_type": "code",
   "execution_count": 4,
   "id": "573a9801",
   "metadata": {
    "scrolled": false
   },
   "outputs": [
    {
     "data": {
      "text/html": [
       "<div>\n",
       "<style scoped>\n",
       "    .dataframe tbody tr th:only-of-type {\n",
       "        vertical-align: middle;\n",
       "    }\n",
       "\n",
       "    .dataframe tbody tr th {\n",
       "        vertical-align: top;\n",
       "    }\n",
       "\n",
       "    .dataframe thead th {\n",
       "        text-align: right;\n",
       "    }\n",
       "</style>\n",
       "<table border=\"1\" class=\"dataframe\">\n",
       "  <thead>\n",
       "    <tr style=\"text-align: right;\">\n",
       "      <th></th>\n",
       "      <th>links</th>\n",
       "      <th>court</th>\n",
       "      <th>court_id</th>\n",
       "      <th>court_date</th>\n",
       "      <th>appeal_court</th>\n",
       "      <th>appeal_id</th>\n",
       "      <th>appeal_date</th>\n",
       "      <th>region</th>\n",
       "      <th>city</th>\n",
       "      <th>judgment_text</th>\n",
       "      <th>appeal_text</th>\n",
       "      <th>appeal_data</th>\n",
       "      <th>appleal_text</th>\n",
       "    </tr>\n",
       "  </thead>\n",
       "  <tbody>\n",
       "    <tr>\n",
       "      <th>0</th>\n",
       "      <td>القضية رقم  ٤٦٤٦ لعام ١٤٤٢ هـ</td>\n",
       "      <td>المحكمة: المحكمة التجارية</td>\n",
       "      <td>رقم القضية - القرار: ٤٦٤٦</td>\n",
       "      <td>تاريخها: ٩/١/١٤٤٣</td>\n",
       "      <td>محكمة الاستئناف: المحكمة التجارية</td>\n",
       "      <td>رقم القرار: ٧٨٥</td>\n",
       "      <td>تاريخه: ٧/٣/١٤٤٣</td>\n",
       "      <td>المدينة: منطقة الرياض</td>\n",
       "      <td>المدينه: الرياض</td>\n",
       "      <td>الحمد لله والصلاة والسلام على رسول ﷲ أما بعد:\\...</td>\n",
       "      <td>الحمد لله والصلاة والسلام على رسول ﷲ أما بعد:\\...</td>\n",
       "      <td>NaN</td>\n",
       "      <td>NaN</td>\n",
       "    </tr>\n",
       "    <tr>\n",
       "      <th>1</th>\n",
       "      <td>القضية رقم  ٦٩٥٨ لعام ١٤٤٢ هـ</td>\n",
       "      <td>المحكمة: المحكمة التجارية</td>\n",
       "      <td>رقم القضية - القرار: ٦٩٥٨</td>\n",
       "      <td>تاريخها: ٢٥/١٢/١٤٤٢</td>\n",
       "      <td>محكمة الاستئناف: المحكمة التجارية</td>\n",
       "      <td>رقم القرار: ٥٤٦</td>\n",
       "      <td>تاريخه: ٦/٣/١٤٤٣</td>\n",
       "      <td>المدينة: منطقة الرياض</td>\n",
       "      <td>المدينه: الرياض</td>\n",
       "      <td>الحمد لله والصلاة والسلام على رسول ﷲ أما بعد:\\...</td>\n",
       "      <td>الحمد لله والصلاة والسلام على رسول ﷲ أما بعد:\\...</td>\n",
       "      <td>NaN</td>\n",
       "      <td>NaN</td>\n",
       "    </tr>\n",
       "    <tr>\n",
       "      <th>2</th>\n",
       "      <td>القضية رقم  ٦٦٠٧ لعام ١٤٤٢ هـ</td>\n",
       "      <td>المحكمة: المحكمة التجارية</td>\n",
       "      <td>رقم القضية - القرار: ٦٦٠٧</td>\n",
       "      <td>تاريخها: ٩/١/١٤٤٣</td>\n",
       "      <td>محكمة الاستئناف: المحكمة التجارية</td>\n",
       "      <td>رقم القرار: ٧٩٠</td>\n",
       "      <td>تاريخه: ٧/٣/١٤٤٣</td>\n",
       "      <td>المدينة: منطقة الرياض</td>\n",
       "      <td>المدينه: الرياض</td>\n",
       "      <td>الحمد لله والصلاة والسلام على رسول ﷲ أما بعد:\\...</td>\n",
       "      <td>الحمد لله والصلاة والسلام على رسول ﷲ أما بعد:\\...</td>\n",
       "      <td>NaN</td>\n",
       "      <td>NaN</td>\n",
       "    </tr>\n",
       "  </tbody>\n",
       "</table>\n",
       "</div>"
      ],
      "text/plain": [
       "                           links                      court  \\\n",
       "0  القضية رقم  ٤٦٤٦ لعام ١٤٤٢ هـ  المحكمة: المحكمة التجارية   \n",
       "1  القضية رقم  ٦٩٥٨ لعام ١٤٤٢ هـ  المحكمة: المحكمة التجارية   \n",
       "2  القضية رقم  ٦٦٠٧ لعام ١٤٤٢ هـ  المحكمة: المحكمة التجارية   \n",
       "\n",
       "                    court_id           court_date  \\\n",
       "0  رقم القضية - القرار: ٤٦٤٦    تاريخها: ٩/١/١٤٤٣   \n",
       "1  رقم القضية - القرار: ٦٩٥٨  تاريخها: ٢٥/١٢/١٤٤٢   \n",
       "2  رقم القضية - القرار: ٦٦٠٧    تاريخها: ٩/١/١٤٤٣   \n",
       "\n",
       "                        appeal_court        appeal_id       appeal_date  \\\n",
       "0  محكمة الاستئناف: المحكمة التجارية  رقم القرار: ٧٨٥  تاريخه: ٧/٣/١٤٤٣   \n",
       "1  محكمة الاستئناف: المحكمة التجارية  رقم القرار: ٥٤٦  تاريخه: ٦/٣/١٤٤٣   \n",
       "2  محكمة الاستئناف: المحكمة التجارية  رقم القرار: ٧٩٠  تاريخه: ٧/٣/١٤٤٣   \n",
       "\n",
       "                  region             city  \\\n",
       "0  المدينة: منطقة الرياض  المدينه: الرياض   \n",
       "1  المدينة: منطقة الرياض  المدينه: الرياض   \n",
       "2  المدينة: منطقة الرياض  المدينه: الرياض   \n",
       "\n",
       "                                       judgment_text  \\\n",
       "0  الحمد لله والصلاة والسلام على رسول ﷲ أما بعد:\\...   \n",
       "1  الحمد لله والصلاة والسلام على رسول ﷲ أما بعد:\\...   \n",
       "2  الحمد لله والصلاة والسلام على رسول ﷲ أما بعد:\\...   \n",
       "\n",
       "                                         appeal_text appeal_data appleal_text  \n",
       "0  الحمد لله والصلاة والسلام على رسول ﷲ أما بعد:\\...         NaN          NaN  \n",
       "1  الحمد لله والصلاة والسلام على رسول ﷲ أما بعد:\\...         NaN          NaN  \n",
       "2  الحمد لله والصلاة والسلام على رسول ﷲ أما بعد:\\...         NaN          NaN  "
      ]
     },
     "execution_count": 4,
     "metadata": {},
     "output_type": "execute_result"
    }
   ],
   "source": [
    "data.head(3)"
   ]
  },
  {
   "cell_type": "markdown",
   "id": "972abc3c",
   "metadata": {},
   "source": [
    "# EDA"
   ]
  },
  {
   "cell_type": "markdown",
   "id": "09da6702",
   "metadata": {},
   "source": [
    "# Data Cleaning\n"
   ]
  },
  {
   "cell_type": "code",
   "execution_count": 5,
   "id": "b1387a8f",
   "metadata": {},
   "outputs": [],
   "source": [
    "data['court'] =data['court'].str.replace('المحكمة: المحكمة التجارية', 'التجارية')\n",
    "data['court'] =data['court'].str.replace('المحكمة: المحكمة العليا -  الهيئة الدائمة', 'العليا')\n",
    "data['court'] =data['court'].str.replace('المحكمة: المحكمة العامة', 'العامة')"
   ]
  },
  {
   "cell_type": "code",
   "execution_count": null,
   "id": "e0c7f8e3",
   "metadata": {},
   "outputs": [],
   "source": []
  },
  {
   "cell_type": "code",
   "execution_count": 6,
   "id": "b62dc933",
   "metadata": {},
   "outputs": [
    {
     "data": {
      "text/plain": [
       "التجارية             166\n",
       " المحكمة التجارية    131\n",
       "العليا                39\n",
       "العامة                 8\n",
       " المحكمة العامة        7\n",
       "Name: court, dtype: int64"
      ]
     },
     "execution_count": 6,
     "metadata": {},
     "output_type": "execute_result"
    }
   ],
   "source": [
    "data.court.value_counts()"
   ]
  },
  {
   "cell_type": "code",
   "execution_count": 7,
   "id": "f1b47a41",
   "metadata": {},
   "outputs": [
    {
     "data": {
      "text/plain": [
       "التجارية             166\n",
       " المحكمة التجارية    131\n",
       "العليا                39\n",
       "العامة                 8\n",
       " المحكمة العامة        7\n",
       "Name: court, dtype: int64"
      ]
     },
     "execution_count": 7,
     "metadata": {},
     "output_type": "execute_result"
    }
   ],
   "source": [
    "data.court.value_counts()"
   ]
  },
  {
   "cell_type": "code",
   "execution_count": 8,
   "id": "f6b7750c",
   "metadata": {},
   "outputs": [
    {
     "data": {
      "text/html": [
       "<div>\n",
       "<style scoped>\n",
       "    .dataframe tbody tr th:only-of-type {\n",
       "        vertical-align: middle;\n",
       "    }\n",
       "\n",
       "    .dataframe tbody tr th {\n",
       "        vertical-align: top;\n",
       "    }\n",
       "\n",
       "    .dataframe thead th {\n",
       "        text-align: right;\n",
       "    }\n",
       "</style>\n",
       "<table border=\"1\" class=\"dataframe\">\n",
       "  <thead>\n",
       "    <tr style=\"text-align: right;\">\n",
       "      <th></th>\n",
       "      <th>links</th>\n",
       "      <th>court</th>\n",
       "      <th>court_id</th>\n",
       "      <th>court_date</th>\n",
       "      <th>appeal_court</th>\n",
       "      <th>appeal_id</th>\n",
       "      <th>appeal_date</th>\n",
       "      <th>region</th>\n",
       "      <th>city</th>\n",
       "      <th>judgment_text</th>\n",
       "      <th>appeal_text</th>\n",
       "      <th>appeal_data</th>\n",
       "      <th>appleal_text</th>\n",
       "    </tr>\n",
       "  </thead>\n",
       "  <tbody>\n",
       "  </tbody>\n",
       "</table>\n",
       "</div>"
      ],
      "text/plain": [
       "Empty DataFrame\n",
       "Columns: [links, court, court_id, court_date, appeal_court, appeal_id, appeal_date, region, city, judgment_text, appeal_text, appeal_data, appleal_text]\n",
       "Index: []"
      ]
     },
     "execution_count": 8,
     "metadata": {},
     "output_type": "execute_result"
    }
   ],
   "source": [
    "data[data['judgment_text'].isnull()]"
   ]
  },
  {
   "cell_type": "code",
   "execution_count": 9,
   "id": "4466923d",
   "metadata": {},
   "outputs": [],
   "source": [
    "data.dropna(subset=[\"judgment_text\"],inplace = True)"
   ]
  },
  {
   "cell_type": "code",
   "execution_count": 10,
   "id": "c26b84dd",
   "metadata": {},
   "outputs": [
    {
     "name": "stdout",
     "output_type": "stream",
     "text": [
      "<class 'pandas.core.frame.DataFrame'>\n",
      "Int64Index: 351 entries, 0 to 350\n",
      "Data columns (total 13 columns):\n",
      " #   Column         Non-Null Count  Dtype \n",
      "---  ------         --------------  ----- \n",
      " 0   links          351 non-null    object\n",
      " 1   court          351 non-null    object\n",
      " 2   court_id       351 non-null    object\n",
      " 3   court_date     351 non-null    object\n",
      " 4   appeal_court   307 non-null    object\n",
      " 5   appeal_id      307 non-null    object\n",
      " 6   appeal_date    274 non-null    object\n",
      " 7   region         274 non-null    object\n",
      " 8   city           318 non-null    object\n",
      " 9   judgment_text  351 non-null    object\n",
      " 10  appeal_text    274 non-null    object\n",
      " 11  appeal_data    33 non-null     object\n",
      " 12  appleal_text   33 non-null     object\n",
      "dtypes: object(13)\n",
      "memory usage: 38.4+ KB\n"
     ]
    }
   ],
   "source": [
    "data.info()"
   ]
  },
  {
   "cell_type": "code",
   "execution_count": 11,
   "id": "120ba6e3",
   "metadata": {},
   "outputs": [],
   "source": [
    "\n",
    "# data.drop(['نص الحكم','links1','links0-href','links0','appeal_text','appeal_date','appeal_id','appeal_court','court_date',\n",
    "#           'court_id','links1-href'], axis = 1,inplace=True)\n",
    "#           '''"
   ]
  },
  {
   "cell_type": "code",
   "execution_count": 12,
   "id": "1da8305a",
   "metadata": {
    "scrolled": false
   },
   "outputs": [
    {
     "name": "stdout",
     "output_type": "stream",
     "text": [
      "<class 'pandas.core.frame.DataFrame'>\n",
      "Int64Index: 351 entries, 0 to 350\n",
      "Data columns (total 13 columns):\n",
      " #   Column         Non-Null Count  Dtype \n",
      "---  ------         --------------  ----- \n",
      " 0   links          351 non-null    object\n",
      " 1   court          351 non-null    object\n",
      " 2   court_id       351 non-null    object\n",
      " 3   court_date     351 non-null    object\n",
      " 4   appeal_court   307 non-null    object\n",
      " 5   appeal_id      307 non-null    object\n",
      " 6   appeal_date    274 non-null    object\n",
      " 7   region         274 non-null    object\n",
      " 8   city           318 non-null    object\n",
      " 9   judgment_text  351 non-null    object\n",
      " 10  appeal_text    274 non-null    object\n",
      " 11  appeal_data    33 non-null     object\n",
      " 12  appleal_text   33 non-null     object\n",
      "dtypes: object(13)\n",
      "memory usage: 38.4+ KB\n"
     ]
    }
   ],
   "source": [
    "data.info()"
   ]
  },
  {
   "cell_type": "code",
   "execution_count": 13,
   "id": "51ff6992",
   "metadata": {},
   "outputs": [],
   "source": [
    "#data['الصفحات-href'].isnull().sum()"
   ]
  },
  {
   "cell_type": "code",
   "execution_count": 14,
   "id": "6f2c8617",
   "metadata": {},
   "outputs": [],
   "source": [
    "#data['القضايا-href'].isnull().sum()"
   ]
  },
  {
   "cell_type": "code",
   "execution_count": 15,
   "id": "a8dec16d",
   "metadata": {},
   "outputs": [],
   "source": [
    "#data['pages-href'].isnull().sum()"
   ]
  },
  {
   "cell_type": "code",
   "execution_count": 16,
   "id": "11a93a70",
   "metadata": {
    "scrolled": true
   },
   "outputs": [],
   "source": [
    "#data['pages'].isnull().sum()"
   ]
  },
  {
   "cell_type": "code",
   "execution_count": 17,
   "id": "aa05a3d1",
   "metadata": {},
   "outputs": [],
   "source": [
    "#data.drop(['pages','pages-href','القضايا-href','الصفحات-href'], axis = 1,inplace=True)"
   ]
  },
  {
   "cell_type": "code",
   "execution_count": 18,
   "id": "91e82330",
   "metadata": {
    "scrolled": true
   },
   "outputs": [
    {
     "name": "stdout",
     "output_type": "stream",
     "text": [
      "<class 'pandas.core.frame.DataFrame'>\n",
      "Int64Index: 351 entries, 0 to 350\n",
      "Data columns (total 13 columns):\n",
      " #   Column         Non-Null Count  Dtype \n",
      "---  ------         --------------  ----- \n",
      " 0   links          351 non-null    object\n",
      " 1   court          351 non-null    object\n",
      " 2   court_id       351 non-null    object\n",
      " 3   court_date     351 non-null    object\n",
      " 4   appeal_court   307 non-null    object\n",
      " 5   appeal_id      307 non-null    object\n",
      " 6   appeal_date    274 non-null    object\n",
      " 7   region         274 non-null    object\n",
      " 8   city           318 non-null    object\n",
      " 9   judgment_text  351 non-null    object\n",
      " 10  appeal_text    274 non-null    object\n",
      " 11  appeal_data    33 non-null     object\n",
      " 12  appleal_text   33 non-null     object\n",
      "dtypes: object(13)\n",
      "memory usage: 38.4+ KB\n"
     ]
    }
   ],
   "source": [
    "data.info()"
   ]
  },
  {
   "cell_type": "code",
   "execution_count": 19,
   "id": "dfb895ea",
   "metadata": {},
   "outputs": [],
   "source": [
    "#data['القضايا'].isnull().sum()"
   ]
  },
  {
   "cell_type": "code",
   "execution_count": 20,
   "id": "1b711703",
   "metadata": {
    "scrolled": true
   },
   "outputs": [],
   "source": [
    "#data['الصفحات'].isnull().sum()"
   ]
  },
  {
   "cell_type": "code",
   "execution_count": 21,
   "id": "37b53f9b",
   "metadata": {},
   "outputs": [],
   "source": [
    "#data.drop(['القضايا','الصفحات'], axis = 1,inplace=True)"
   ]
  },
  {
   "cell_type": "code",
   "execution_count": 22,
   "id": "27fcf05b",
   "metadata": {
    "scrolled": false
   },
   "outputs": [
    {
     "name": "stdout",
     "output_type": "stream",
     "text": [
      "<class 'pandas.core.frame.DataFrame'>\n",
      "Int64Index: 351 entries, 0 to 350\n",
      "Data columns (total 13 columns):\n",
      " #   Column         Non-Null Count  Dtype \n",
      "---  ------         --------------  ----- \n",
      " 0   links          351 non-null    object\n",
      " 1   court          351 non-null    object\n",
      " 2   court_id       351 non-null    object\n",
      " 3   court_date     351 non-null    object\n",
      " 4   appeal_court   307 non-null    object\n",
      " 5   appeal_id      307 non-null    object\n",
      " 6   appeal_date    274 non-null    object\n",
      " 7   region         274 non-null    object\n",
      " 8   city           318 non-null    object\n",
      " 9   judgment_text  351 non-null    object\n",
      " 10  appeal_text    274 non-null    object\n",
      " 11  appeal_data    33 non-null     object\n",
      " 12  appleal_text   33 non-null     object\n",
      "dtypes: object(13)\n",
      "memory usage: 38.4+ KB\n"
     ]
    }
   ],
   "source": [
    "data.info()"
   ]
  },
  {
   "cell_type": "code",
   "execution_count": 23,
   "id": "21e72b9a",
   "metadata": {
    "scrolled": true
   },
   "outputs": [
    {
     "data": {
      "text/html": [
       "<div>\n",
       "<style scoped>\n",
       "    .dataframe tbody tr th:only-of-type {\n",
       "        vertical-align: middle;\n",
       "    }\n",
       "\n",
       "    .dataframe tbody tr th {\n",
       "        vertical-align: top;\n",
       "    }\n",
       "\n",
       "    .dataframe thead th {\n",
       "        text-align: right;\n",
       "    }\n",
       "</style>\n",
       "<table border=\"1\" class=\"dataframe\">\n",
       "  <thead>\n",
       "    <tr style=\"text-align: right;\">\n",
       "      <th></th>\n",
       "      <th>links</th>\n",
       "      <th>court</th>\n",
       "      <th>court_id</th>\n",
       "      <th>court_date</th>\n",
       "      <th>appeal_court</th>\n",
       "      <th>appeal_id</th>\n",
       "      <th>appeal_date</th>\n",
       "      <th>region</th>\n",
       "      <th>city</th>\n",
       "      <th>judgment_text</th>\n",
       "      <th>appeal_text</th>\n",
       "      <th>appeal_data</th>\n",
       "      <th>appleal_text</th>\n",
       "    </tr>\n",
       "  </thead>\n",
       "  <tbody>\n",
       "    <tr>\n",
       "      <th>0</th>\n",
       "      <td>القضية رقم  ٤٦٤٦ لعام ١٤٤٢ هـ</td>\n",
       "      <td>التجارية</td>\n",
       "      <td>رقم القضية - القرار: ٤٦٤٦</td>\n",
       "      <td>تاريخها: ٩/١/١٤٤٣</td>\n",
       "      <td>محكمة الاستئناف: المحكمة التجارية</td>\n",
       "      <td>رقم القرار: ٧٨٥</td>\n",
       "      <td>تاريخه: ٧/٣/١٤٤٣</td>\n",
       "      <td>المدينة: منطقة الرياض</td>\n",
       "      <td>المدينه: الرياض</td>\n",
       "      <td>الحمد لله والصلاة والسلام على رسول ﷲ أما بعد:\\...</td>\n",
       "      <td>الحمد لله والصلاة والسلام على رسول ﷲ أما بعد:\\...</td>\n",
       "      <td>NaN</td>\n",
       "      <td>NaN</td>\n",
       "    </tr>\n",
       "    <tr>\n",
       "      <th>1</th>\n",
       "      <td>القضية رقم  ٦٩٥٨ لعام ١٤٤٢ هـ</td>\n",
       "      <td>التجارية</td>\n",
       "      <td>رقم القضية - القرار: ٦٩٥٨</td>\n",
       "      <td>تاريخها: ٢٥/١٢/١٤٤٢</td>\n",
       "      <td>محكمة الاستئناف: المحكمة التجارية</td>\n",
       "      <td>رقم القرار: ٥٤٦</td>\n",
       "      <td>تاريخه: ٦/٣/١٤٤٣</td>\n",
       "      <td>المدينة: منطقة الرياض</td>\n",
       "      <td>المدينه: الرياض</td>\n",
       "      <td>الحمد لله والصلاة والسلام على رسول ﷲ أما بعد:\\...</td>\n",
       "      <td>الحمد لله والصلاة والسلام على رسول ﷲ أما بعد:\\...</td>\n",
       "      <td>NaN</td>\n",
       "      <td>NaN</td>\n",
       "    </tr>\n",
       "    <tr>\n",
       "      <th>2</th>\n",
       "      <td>القضية رقم  ٦٦٠٧ لعام ١٤٤٢ هـ</td>\n",
       "      <td>التجارية</td>\n",
       "      <td>رقم القضية - القرار: ٦٦٠٧</td>\n",
       "      <td>تاريخها: ٩/١/١٤٤٣</td>\n",
       "      <td>محكمة الاستئناف: المحكمة التجارية</td>\n",
       "      <td>رقم القرار: ٧٩٠</td>\n",
       "      <td>تاريخه: ٧/٣/١٤٤٣</td>\n",
       "      <td>المدينة: منطقة الرياض</td>\n",
       "      <td>المدينه: الرياض</td>\n",
       "      <td>الحمد لله والصلاة والسلام على رسول ﷲ أما بعد:\\...</td>\n",
       "      <td>الحمد لله والصلاة والسلام على رسول ﷲ أما بعد:\\...</td>\n",
       "      <td>NaN</td>\n",
       "      <td>NaN</td>\n",
       "    </tr>\n",
       "    <tr>\n",
       "      <th>3</th>\n",
       "      <td>القضية رقم  ٤٣٣١ لعام ١٤٤٢ هـ</td>\n",
       "      <td>التجارية</td>\n",
       "      <td>رقم القضية - القرار: ٤٣٣١</td>\n",
       "      <td>تاريخها: ١٨/١١/١٤٤٢</td>\n",
       "      <td>محكمة الاستئناف: المحكمة التجارية</td>\n",
       "      <td>رقم القرار: ٣٧</td>\n",
       "      <td>تاريخه: ٧/٣/١٤٤٣</td>\n",
       "      <td>المدينة: منطقة الرياض</td>\n",
       "      <td>المدينه: الرياض</td>\n",
       "      <td>الحمد لله والصلاة والسلام على رسول ﷲ أما بعد:\\...</td>\n",
       "      <td>الحمد لله والصلاة والسلام على رسول ﷲ أما بعد:\\...</td>\n",
       "      <td>NaN</td>\n",
       "      <td>NaN</td>\n",
       "    </tr>\n",
       "  </tbody>\n",
       "</table>\n",
       "</div>"
      ],
      "text/plain": [
       "                           links     court                   court_id  \\\n",
       "0  القضية رقم  ٤٦٤٦ لعام ١٤٤٢ هـ  التجارية  رقم القضية - القرار: ٤٦٤٦   \n",
       "1  القضية رقم  ٦٩٥٨ لعام ١٤٤٢ هـ  التجارية  رقم القضية - القرار: ٦٩٥٨   \n",
       "2  القضية رقم  ٦٦٠٧ لعام ١٤٤٢ هـ  التجارية  رقم القضية - القرار: ٦٦٠٧   \n",
       "3  القضية رقم  ٤٣٣١ لعام ١٤٤٢ هـ  التجارية  رقم القضية - القرار: ٤٣٣١   \n",
       "\n",
       "            court_date                       appeal_court        appeal_id  \\\n",
       "0    تاريخها: ٩/١/١٤٤٣  محكمة الاستئناف: المحكمة التجارية  رقم القرار: ٧٨٥   \n",
       "1  تاريخها: ٢٥/١٢/١٤٤٢  محكمة الاستئناف: المحكمة التجارية  رقم القرار: ٥٤٦   \n",
       "2    تاريخها: ٩/١/١٤٤٣  محكمة الاستئناف: المحكمة التجارية  رقم القرار: ٧٩٠   \n",
       "3  تاريخها: ١٨/١١/١٤٤٢  محكمة الاستئناف: المحكمة التجارية   رقم القرار: ٣٧   \n",
       "\n",
       "        appeal_date                 region             city  \\\n",
       "0  تاريخه: ٧/٣/١٤٤٣  المدينة: منطقة الرياض  المدينه: الرياض   \n",
       "1  تاريخه: ٦/٣/١٤٤٣  المدينة: منطقة الرياض  المدينه: الرياض   \n",
       "2  تاريخه: ٧/٣/١٤٤٣  المدينة: منطقة الرياض  المدينه: الرياض   \n",
       "3  تاريخه: ٧/٣/١٤٤٣  المدينة: منطقة الرياض  المدينه: الرياض   \n",
       "\n",
       "                                       judgment_text  \\\n",
       "0  الحمد لله والصلاة والسلام على رسول ﷲ أما بعد:\\...   \n",
       "1  الحمد لله والصلاة والسلام على رسول ﷲ أما بعد:\\...   \n",
       "2  الحمد لله والصلاة والسلام على رسول ﷲ أما بعد:\\...   \n",
       "3  الحمد لله والصلاة والسلام على رسول ﷲ أما بعد:\\...   \n",
       "\n",
       "                                         appeal_text appeal_data appleal_text  \n",
       "0  الحمد لله والصلاة والسلام على رسول ﷲ أما بعد:\\...         NaN          NaN  \n",
       "1  الحمد لله والصلاة والسلام على رسول ﷲ أما بعد:\\...         NaN          NaN  \n",
       "2  الحمد لله والصلاة والسلام على رسول ﷲ أما بعد:\\...         NaN          NaN  \n",
       "3  الحمد لله والصلاة والسلام على رسول ﷲ أما بعد:\\...         NaN          NaN  "
      ]
     },
     "execution_count": 23,
     "metadata": {},
     "output_type": "execute_result"
    }
   ],
   "source": [
    "data.head(4)"
   ]
  },
  {
   "cell_type": "markdown",
   "id": "4ce618e6",
   "metadata": {},
   "source": [
    "## remove ponctuations"
   ]
  },
  {
   "cell_type": "code",
   "execution_count": 24,
   "id": "a4d64ae3",
   "metadata": {},
   "outputs": [],
   "source": [
    "arabic_punctuations = '''`÷×؛<>_()*&^%][ـ،/:\"؟.,'{}~¦+|\"!”…“–ـ'''"
   ]
  },
  {
   "cell_type": "code",
   "execution_count": 25,
   "id": "e979aafa",
   "metadata": {},
   "outputs": [],
   "source": [
    "def remove_punctuations(text):\n",
    "    translator = str.maketrans(' ', ' ', arabic_punctuations)\n",
    "    return text.translate(translator)\n",
    "data['judgment_text'] =data['judgment_text'].map(remove_punctuations)"
   ]
  },
  {
   "cell_type": "code",
   "execution_count": 26,
   "id": "a7bc6f43",
   "metadata": {},
   "outputs": [],
   "source": [
    "#data.judgment_text = data.judgment_text.replace('\\n','')"
   ]
  },
  {
   "cell_type": "markdown",
   "id": "41f4bf00",
   "metadata": {},
   "source": [
    "## normalize_arabic"
   ]
  },
  {
   "cell_type": "code",
   "execution_count": 27,
   "id": "c9b7485f",
   "metadata": {},
   "outputs": [],
   "source": [
    "def normalize_arabic(text):\n",
    "    text = re.sub(\"[إأآا]\", \"ا\", text)\n",
    "    text = re.sub(\"ى\", \"ي\", text)\n",
    "    text = re.sub(\"ة\", \"ه\", text)\n",
    "    text = re.sub(\"گ\", \"ك\", text)\n",
    "    return text"
   ]
  },
  {
   "cell_type": "code",
   "execution_count": 28,
   "id": "0c4dfca1",
   "metadata": {},
   "outputs": [],
   "source": [
    "data['judgment_text'] =data['judgment_text'].map(normalize_arabic)"
   ]
  },
  {
   "cell_type": "markdown",
   "id": "ee5506d3",
   "metadata": {},
   "source": [
    "## remove numbers"
   ]
  },
  {
   "cell_type": "code",
   "execution_count": 29,
   "id": "0c564369",
   "metadata": {},
   "outputs": [],
   "source": [
    "data['judgment_text'] =data['judgment_text'].str.replace('\\w*\\d\\w*', ' ')"
   ]
  },
  {
   "cell_type": "code",
   "execution_count": 30,
   "id": "50acdb1f",
   "metadata": {},
   "outputs": [],
   "source": [
    "data['judgment_text'] =data['judgment_text'].str.replace('\\\\', ' ')"
   ]
  },
  {
   "cell_type": "markdown",
   "id": "511dceef",
   "metadata": {},
   "source": [
    "## remove \\n"
   ]
  },
  {
   "cell_type": "code",
   "execution_count": 31,
   "id": "42149d84",
   "metadata": {},
   "outputs": [],
   "source": [
    "data['judgment_text'] =data['judgment_text'].str.replace(r'\\s', ' ')"
   ]
  },
  {
   "cell_type": "code",
   "execution_count": 32,
   "id": "33402453",
   "metadata": {},
   "outputs": [],
   "source": [
    "data['judgment_text'] =data['judgment_text'].str.replace(r'\\s*[A-Za-z]+\\b', ' ')"
   ]
  },
  {
   "cell_type": "code",
   "execution_count": 33,
   "id": "9ce76ab5",
   "metadata": {},
   "outputs": [],
   "source": [
    "data['judgment_text'] =data['judgment_text'].str.replace('-', ' ')"
   ]
  },
  {
   "cell_type": "code",
   "execution_count": 34,
   "id": "416a24f3",
   "metadata": {},
   "outputs": [],
   "source": [
    "data['judgment_text'] =data['judgment_text'].str.replace('\\u200c', ' ')"
   ]
  },
  {
   "cell_type": "code",
   "execution_count": 35,
   "id": "55d14321",
   "metadata": {},
   "outputs": [
    {
     "data": {
      "text/plain": [
       "'الحمد لله والصلاه والسلام علي رسول ﷲ اما بعد فلدي الدائره التجاريه الثانيه عشره وبناءً علي القضيه رقم    لعام   ه  المقامه من شركه شبال للتجاره مساهمه مقفله سجل تجاري   ضد عبدﷲ محمد عبدﷲ فلاته هويه وطنيه    القاضي بندر بن صالح الحميد رئيسا القاضي بكر بن خلف العنزي عضوا القاضي عبدالرحمن بن سعد السعد عضوا   الوقائع  تتحصل وقائع هذه الدعوي بالقدر اللازم لاصدار هذا الحكم وحسبما يتبين من اوراقها بتقدم وكيل المدعي نايف بدر غازي المرشدي هويه رقم  بصفته وكيلا عن شركه شبال للتجاره مساهمه مقفله بوكاله رقم    بلائحه دعوي ضد المدعي عليها مؤسسه اثير الصفوه للتجاره سجل رقم  تضمنت ما يلي    بتاريخ       م قامت المدعي عليها بفتح حساب شراء بضاعه بالاجل لدي موكلتي علي ان توفر موكلتي للمدعي عليها الاقمشه المطلوبه بالاجل وتقوم المدعي عليها بالسداد خلال العام نفسه ولا يتم تجاوز نفس العام    استمرت العلاقه التعاقديه طيله الفتره الماضيه بناءً علي الاتفاق نفسه مع تغيير المؤسسه المباشره للتعاملات الي مؤسسه اثير الصفوه للتجاره والعائده جميعها للمالك نفسه عبدﷲ محمد عبدﷲ فلاته    اشترت المدعي عليها اقمشه رجاله صيفيه نوع ريتشي موديل صيفي من موكلتي للفتره من       حتي       وذلك بمبلغ وقدره   مليون وسبعمائه وخمسه وسبعين الف و اربعمائه وتسعه وثلاثين ريال سعودي    استلمت المدعي عليها البضاعه المحدده وتصرفت بها    طالبت موكلتي المدعي عليها بالسداد وردت المدعي عليها بخطاب بالوعد بالسداد و جدوله المبلغ علي دفعات متفرقه    لم تفِ المدعي عليها بالوعد بالسداد حتي الان جميع المبالغ حاله الوفاء بتاريخ       م  وانتهي وكيل المدعيه الي طلب الزام المدعي عليها بان يدفع لموكلته مبلغاً قدره   مليون وسبعمائه وخمسه وسبعين الف و اربعمائه وتسعه وثلاثين ريال سعودي بالاضافه الي اتعاب المحاماه وقد قدمت بيناتها علي دعواها تمثلت في عقد التوريد علي ورقه بيضاء تضمن الاتفاق يوم الاحد بتاريخ    بين الطرف الاول شركه شبال للتجاره المحدوده اقمشه ريتشي العالميه والطرف الثاني اثير الصفوه للخياطه الرجاليه عبد ﷲ فلاته بقيام الطرف الاول بتوريد البضاعه التي يحتاج اليها الطرف الثاني من اقمشه ريتشي العالميه وذلك حسب رغبه واختيار الطرف الثاني مذيل بتوقيع وختم الطرفين شركه شبال المحدوده ومكتب عبد ﷲ فلاته للخدمات التجاريه كما قدمت المدعيه فواتير علي مطبوعات ريتشي بتاريخ   بمجموع كلي مقداره   ريال وقد اقيم لنظر هذه القضيه جلستان ففي الجلسه الاولي بتاريخ   حضر طرفا الدعوي وكاله وبسؤال المدعي وكاله عن الدعوي احال علي لائحه الدعوي وبعرضها علي المدعي عليه اجاب قائلا اطلب مهله للرد وافهم طرفا الدعوي بتبادل المذكرات ورفعت الجلسه ثم قدم المدعي عليه مذكرته بتاريخ   تضمنت اولاً اقيمت الدعوي ضد مؤسسه اثير الصفوه للتجاره وارفق بها عقد مكتوب في عام   وعليه ختم مكتب عبدﷲ ابراهيم فلاته للخدمات التجاريه وهذا العقد مكتوب في مقدمته انه بين المدعي واثير الصفوه للخياطه الرجاليه وعليه ختم ورقم السجل التجاري للمكتب المذكور ثانياً السجل التجاري للمكتب المذكور قد انتهي العمل به واغلقت مؤسسه الخدمات التجاريه وانتهي التعامل بين المؤسسه والمدعي ثالثا ويؤيد ذلك ما ارفقته المدعيه من فواتير تؤكد ذلك وتبين ان التعامل كان مع شركه اخري وباتفاق اخر غير ما ورد في الدعوي و هذه الشركه لها شخصيه اعتباريه وذمه ماليه مستقله ويملكها شخصان ولا ترتبط بالمدعي عليه مكتب عبدﷲ فلاته للخدمات التجاريه  المنتهي منذ سنوات   وبجلسه   المنعقده عن بعد حضر اطراف الدعوي ورات الجلسه صلاحيه الدعوي للفصل فيها وعليه قررت الدائره رفع الجلسه للمداوله   الاسباب  لما كان من اللازم قبل الولوج في موضوع النزاع النظر في صحه قيد الدعوي وحسب ما جاء في نظام المحاكم التجاريه الصادر بالمرسوم الملكي رقم   وتاريخ   الماده العشرون   يجب ان تتضمن صحيفه الدعوي الاتي ا        بيانات الاطراف وممثليهم وصفاتهم وعناوينهم والبيانات والوثائق التي تحددها اللائحه ب        حصر الطلبات وتحديد جميع اسانيد الدعوي وحيث ذكرت المدعيه في دعواها ان اثير الصفوه هي والاسم التجاري مكتب عبدﷲ فلاته هما لنفس الشخص بدليل ان السجل واحد لم يتغير ولم تقدم البينات والوثائق المطلوبه لاثبات هذا الادعاء مع وجوب ارفاقها بلائحه الدعوي فالدعوي والامر ما سبق حريه بعدم القبول كما ان الدائره باطلاعها علي العقد المرفق من المدعيه ضعت بجانب اسم مؤسسه اثير الصفوه عبدﷲ بن ابراهيم فلاته وليس عبدلله بن محمد بن عبدﷲ فلاته وعلي المدعيه تبيين سبب الاختلاف في حال رغبت في اقامه الدعوي مره اخري وبناء عليه   منطوق الحكم  حكمت الدائره بعدم قبول هذه الدعوي وﷲ الموفق وصلي ﷲ وسلم علي نبينا محمد وعلي اله وصحبه اجمعين   عضو  بكر بن خلف العنزي عضو  عبدالرحمن بن سعد السعد رئيس الدائره  بندر بن صالح الحميد'"
      ]
     },
     "execution_count": 35,
     "metadata": {},
     "output_type": "execute_result"
    }
   ],
   "source": [
    "data['judgment_text'][1]"
   ]
  },
  {
   "cell_type": "markdown",
   "id": "4fb6b0a3",
   "metadata": {},
   "source": [
    "Strip tatweel from a text and return a result text"
   ]
  },
  {
   "cell_type": "code",
   "execution_count": 36,
   "id": "c7db9989",
   "metadata": {},
   "outputs": [],
   "source": [
    "import pyarabic.araby as araby\n",
    "import pyarabic.number as number"
   ]
  },
  {
   "cell_type": "code",
   "execution_count": 37,
   "id": "905b444c",
   "metadata": {
    "scrolled": true
   },
   "outputs": [],
   "source": [
    "#araby.strip_tashkeel(data['judgment_text'])"
   ]
  },
  {
   "cell_type": "code",
   "execution_count": 38,
   "id": "7e98e5f5",
   "metadata": {},
   "outputs": [
    {
     "data": {
      "text/plain": [
       "\"\\ndef converter(x):\\n    try:\\n        return ([araby.strip_tashkeel(x) for i in x])\\n    except AttributeError:\\n        return None  # or some other value\\ndata['judgment_text'] = data['judgment_text'].str.apply(converter)\\n\""
      ]
     },
     "execution_count": 38,
     "metadata": {},
     "output_type": "execute_result"
    }
   ],
   "source": [
    "'''\n",
    "def converter(x):\n",
    "    try:\n",
    "        return ([araby.strip_tashkeel(x) for i in x])\n",
    "    except AttributeError:\n",
    "        return None  # or some other value\n",
    "data['judgment_text'] = data['judgment_text'].str.apply(converter)\n",
    "'''"
   ]
  },
  {
   "cell_type": "code",
   "execution_count": 39,
   "id": "fb389341",
   "metadata": {},
   "outputs": [
    {
     "data": {
      "text/plain": [
       "\"\\ndef remove_tashkeel(f):\\n    return araby.strip_tashkeel(f)\\ndata['judgment_text'] = data.judgment_text.map(remove_tashkeel)\\n\""
      ]
     },
     "execution_count": 39,
     "metadata": {},
     "output_type": "execute_result"
    }
   ],
   "source": [
    "'''\n",
    "def remove_tashkeel(f):\n",
    "    return araby.strip_tashkeel(f)\n",
    "data['judgment_text'] = data.judgment_text.map(remove_tashkeel)\n",
    "'''"
   ]
  },
  {
   "cell_type": "code",
   "execution_count": 40,
   "id": "575d194b",
   "metadata": {},
   "outputs": [],
   "source": [
    "data.judgment_text = data.judgment_text.str.replace('\\u0640', '')"
   ]
  },
  {
   "cell_type": "code",
   "execution_count": 41,
   "id": "d37b0b53",
   "metadata": {},
   "outputs": [],
   "source": [
    "data.judgment_text= data.judgment_text.str.replace('\\u064E', '')# َ"
   ]
  },
  {
   "cell_type": "code",
   "execution_count": 42,
   "id": "e7d3239c",
   "metadata": {},
   "outputs": [],
   "source": [
    "data.judgment_text= data.judgment_text.str.replace('\\u0650', '')# َ"
   ]
  },
  {
   "cell_type": "code",
   "execution_count": 43,
   "id": "3d0c3171",
   "metadata": {},
   "outputs": [],
   "source": [
    " def get_Verdict(Verdict):\n",
    "        \n",
    "    if \"حكمت\"  in Verdict:\n",
    "         return str.split(Verdict, \"حكمت\",1)[1]\n",
    "    #if \"حـكمـت\"  in Verdict:\n",
    "        # return str.split(Verdict, \"حـكمـت\",1)[1]\n",
    "    if \"قررت\"  in Verdict:\n",
    "         return str.split(Verdict, \"قررت\",1)[1]\n",
    "    if \"منطوق\"  in Verdict:\n",
    "         return str.split(Verdict, \"منطوق\",1)[1]\n",
    "    if \"منطوف\"  in Verdict:\n",
    "         return str.split(Verdict, \"منطوف\",1)[1]\n",
    "    return None\n",
    "data['Verdict'] =data['judgment_text'].map(get_Verdict)"
   ]
  },
  {
   "cell_type": "code",
   "execution_count": 44,
   "id": "3edf42af",
   "metadata": {},
   "outputs": [
    {
     "data": {
      "text/plain": [
       "' الدائره رفع الجلسه للمداوله اصدار القرار   الاسباب لما كان وكيل المدعيات يطلب تصحيح الحكم الوارد في هذه القضيه ليكون الحكم لموكلته ولان ما طلبه وكيل المدعي عليه لا يعد خطا يلزم منه التصحيحلان تغير المحكوم عليه من شركه الي فرد يعني تغير المحكوم عليه دون اجراء مرافعهلان النظام اعتبر الشركه شخصاً مختلفاً عن مالكها ولها ذمه ماليه مستقله كما انه قد تكون ثمت مطالبات علي الشركه اولي بالسداد من الشركاء كما ان احد المدعي عليهما من ضمن الشركاء المحكوم عليه في هذه القضيهمما تنتهي الدائره الي ما يرد في منطوقه   منطوق الحكم قررت الدائره  رفض تصحيح الحكم المقدم من وكيل المدعيات  عضو  عبدﷲ بن محمد البدر  عضو  يوسف بن محمد بن قاسم جعفري رئيس الدائره جمال بن فاضل العمري'"
      ]
     },
     "execution_count": 44,
     "metadata": {},
     "output_type": "execute_result"
    }
   ],
   "source": [
    "data['Verdict'][200]"
   ]
  },
  {
   "cell_type": "code",
   "execution_count": 45,
   "id": "5a4f7f7e",
   "metadata": {},
   "outputs": [],
   "source": [
    "#data['judgment_text'][29]"
   ]
  },
  {
   "cell_type": "code",
   "execution_count": 46,
   "id": "e09719d0",
   "metadata": {},
   "outputs": [
    {
     "name": "stdout",
     "output_type": "stream",
     "text": [
      "منطوف\n"
     ]
    }
   ],
   "source": [
    "blob = TextBlob(\"منطوف\")\n",
    "print(blob.correct())"
   ]
  },
  {
   "cell_type": "code",
   "execution_count": 47,
   "id": "fbe91796",
   "metadata": {},
   "outputs": [
    {
     "data": {
      "text/html": [
       "<div>\n",
       "<style scoped>\n",
       "    .dataframe tbody tr th:only-of-type {\n",
       "        vertical-align: middle;\n",
       "    }\n",
       "\n",
       "    .dataframe tbody tr th {\n",
       "        vertical-align: top;\n",
       "    }\n",
       "\n",
       "    .dataframe thead th {\n",
       "        text-align: right;\n",
       "    }\n",
       "</style>\n",
       "<table border=\"1\" class=\"dataframe\">\n",
       "  <thead>\n",
       "    <tr style=\"text-align: right;\">\n",
       "      <th></th>\n",
       "      <th>links</th>\n",
       "      <th>court</th>\n",
       "      <th>court_id</th>\n",
       "      <th>court_date</th>\n",
       "      <th>appeal_court</th>\n",
       "      <th>appeal_id</th>\n",
       "      <th>appeal_date</th>\n",
       "      <th>region</th>\n",
       "      <th>city</th>\n",
       "      <th>judgment_text</th>\n",
       "      <th>appeal_text</th>\n",
       "      <th>appeal_data</th>\n",
       "      <th>appleal_text</th>\n",
       "      <th>Verdict</th>\n",
       "    </tr>\n",
       "  </thead>\n",
       "  <tbody>\n",
       "  </tbody>\n",
       "</table>\n",
       "</div>"
      ],
      "text/plain": [
       "Empty DataFrame\n",
       "Columns: [links, court, court_id, court_date, appeal_court, appeal_id, appeal_date, region, city, judgment_text, appeal_text, appeal_data, appleal_text, Verdict]\n",
       "Index: []"
      ]
     },
     "execution_count": 47,
     "metadata": {},
     "output_type": "execute_result"
    }
   ],
   "source": [
    "data[data['Verdict'].isnull()]"
   ]
  },
  {
   "cell_type": "code",
   "execution_count": 48,
   "id": "11ffe34e",
   "metadata": {},
   "outputs": [
    {
     "data": {
      "text/plain": [
       "\"\\nfor col in data['Verdict']:\\n    data['Verdict'].to_csv('Verdict.csv')\\n    \""
      ]
     },
     "execution_count": 48,
     "metadata": {},
     "output_type": "execute_result"
    }
   ],
   "source": [
    "'''\n",
    "for col in data['Verdict']:\n",
    "    data['Verdict'].to_csv('Verdict.csv')\n",
    "    '''"
   ]
  },
  {
   "cell_type": "code",
   "execution_count": 49,
   "id": "86b8640f",
   "metadata": {},
   "outputs": [
    {
     "data": {
      "text/plain": [
       "\"\\nfor col in data['judgment_text']:\\n    data['judgment_text'].to_csv('judgment_csv')\\n    \""
      ]
     },
     "execution_count": 49,
     "metadata": {},
     "output_type": "execute_result"
    }
   ],
   "source": [
    "'''\n",
    "for col in data['judgment_text']:\n",
    "    data['judgment_text'].to_csv('judgment_csv')\n",
    "    '''"
   ]
  },
  {
   "cell_type": "code",
   "execution_count": 50,
   "id": "5f779f76",
   "metadata": {},
   "outputs": [
    {
     "data": {
      "text/plain": [
       "'\\nwith open(\"judgment_csv\") as f1:\\n    set1 = set(f1.readlines())\\nwith open(\"Verdict.csv\") as f2:\\n    set2 = set(f2.readlines())\\n\\nnondups = set1 - set2\\n\\nwith open(\"file1.csv\", \"w\") as out:\\n    out.writelines(nondups)\\n    '"
      ]
     },
     "execution_count": 50,
     "metadata": {},
     "output_type": "execute_result"
    }
   ],
   "source": [
    "'''\n",
    "with open(\"judgment_csv\") as f1:\n",
    "    set1 = set(f1.readlines())\n",
    "with open(\"Verdict.csv\") as f2:\n",
    "    set2 = set(f2.readlines())\n",
    "\n",
    "nondups = set1 - set2\n",
    "\n",
    "with open(\"file1.csv\", \"w\") as out:\n",
    "    out.writelines(nondups)\n",
    "    '''"
   ]
  },
  {
   "cell_type": "code",
   "execution_count": null,
   "id": "b8d90f65",
   "metadata": {},
   "outputs": [],
   "source": []
  },
  {
   "cell_type": "code",
   "execution_count": 51,
   "id": "341d361f",
   "metadata": {},
   "outputs": [],
   "source": [
    "#txt = pd.read_csv('file1.csv')"
   ]
  },
  {
   "cell_type": "code",
   "execution_count": 52,
   "id": "c2903ce9",
   "metadata": {},
   "outputs": [
    {
     "data": {
      "text/plain": [
       "'الحمد لله وحده والصلاه والسلام علي نبينا محمد وعلي اله وصحبه وبعد  ففي يوم الاثنين   ه انعقدت الدائره الخامسه بالمحكمه العليا المشكله من    عبدالوهاب بن محمد المنصوري رئيساً  عبدالله بن عبدالرحيم الزهراني عضواً  محمد بن صالح اليحيي عضواً   وذلك للنظر في طلب النقض المقدّم من شركه  للصناعه رقم السجل التجاري  علي حكم دائره الاستئناف الاولي بالمحكمه التجاريه بجده رقم   في   في القضيه المقامه منهاضد  وبعد الاطلاع علي القضيه الوارده من المحكمه التجاريه بجده رقم   وتاريخ   والمحاله لهذه الدائره بتاريخ   ودراستها وبعد المداوله وحيث انه قبل الدخول في الموضوع يتعين معرفه مدي جواز الطعن علي الحكم الصادر من الاستئناف من عدمه وفي بيان ذلك فان الماده   من نظام المحاكم التجاريه قد نصت علي انه  لا يقبل الحكم النهائي الصادر في اختصاص المحكمه نوعيًّا او مكانيًّا الاعتراض باي طريق  اه وحيث ان الحكم محل الطعن قد قضي بعدم اختصاص المحاكم التجاريه نوعياً الامر الذي تنتهي معه الدائره الي عدم جواز نظر الاعتراض لعدم قابليه الحكم للطعن وتامر بعدم القبول اعمالاً للماده   من نظام المحاكم التجاريه   لذلك قررت الدائره عدم قبول الاعتراض لما هو مبين بالاسباب اعلاه وبالله التوفيق وصلي الله علي نبينا محمد وعلي اله وصحبه وسلم  عضو محمد بن صالح اليحيي  عضو عبدالله بن عبدالرحيم الزهراني  رئيس الدائره عبدالوهاب بن محمد المنصوري'"
      ]
     },
     "execution_count": 52,
     "metadata": {},
     "output_type": "execute_result"
    }
   ],
   "source": [
    "data['judgment_text'][88]"
   ]
  },
  {
   "cell_type": "code",
   "execution_count": 53,
   "id": "4a04f47e",
   "metadata": {},
   "outputs": [
    {
     "data": {
      "text/plain": [
       "' الدائره عدم قبول الاعتراض لما هو مبين بالاسباب اعلاه وبالله التوفيق وصلي الله علي نبينا محمد وعلي اله وصحبه وسلم  عضو محمد بن صالح اليحيي  عضو عبدالله بن عبدالرحيم الزهراني  رئيس الدائره عبدالوهاب بن محمد المنصوري'"
      ]
     },
     "execution_count": 53,
     "metadata": {},
     "output_type": "execute_result"
    }
   ],
   "source": [
    "data['Verdict'][88]"
   ]
  },
  {
   "cell_type": "code",
   "execution_count": 54,
   "id": "282b9457",
   "metadata": {},
   "outputs": [],
   "source": [
    " def get_incident(incident):\n",
    "        \n",
    "    if \"حكمت\"  in incident:\n",
    "         return str.split(incident, \"حكمت\",1)[0]\n",
    "    #if \"حـكمـت\"  in incident:\n",
    "        # return str.split(incident, \"حـكمـت\",1)[0]\n",
    "    if \"قررت\"  in incident:\n",
    "         return str.split(incident, \"قررت\",1)[0]\n",
    "    if \"منطوق\"  in incident:\n",
    "         return str.split(incident, \"منطوق\",1)[0]\n",
    "    if \"منطوف\"  in incident:\n",
    "         return str.split(incident, \"منطوف\",1)[0]\n",
    "    return None\n",
    "data['incident'] =data['judgment_text'].map(get_incident)"
   ]
  },
  {
   "cell_type": "code",
   "execution_count": 55,
   "id": "f2a6c79b",
   "metadata": {},
   "outputs": [
    {
     "data": {
      "text/plain": [
       "'الحمد لله وحده والصلاه والسلام علي نبينا محمد وعلي اله وصحبه وبعد  ففي يوم الاثنين   ه انعقدت الدائره الخامسه بالمحكمه العليا المشكله من    عبدالوهاب بن محمد المنصوري رئيساً  عبدالله بن عبدالرحيم الزهراني عضواً  محمد بن صالح اليحيي عضواً   وذلك للنظر في طلب النقض المقدّم من شركه  للصناعه رقم السجل التجاري  علي حكم دائره الاستئناف الاولي بالمحكمه التجاريه بجده رقم   في   في القضيه المقامه منهاضد  وبعد الاطلاع علي القضيه الوارده من المحكمه التجاريه بجده رقم   وتاريخ   والمحاله لهذه الدائره بتاريخ   ودراستها وبعد المداوله وحيث انه قبل الدخول في الموضوع يتعين معرفه مدي جواز الطعن علي الحكم الصادر من الاستئناف من عدمه وفي بيان ذلك فان الماده   من نظام المحاكم التجاريه قد نصت علي انه  لا يقبل الحكم النهائي الصادر في اختصاص المحكمه نوعيًّا او مكانيًّا الاعتراض باي طريق  اه وحيث ان الحكم محل الطعن قد قضي بعدم اختصاص المحاكم التجاريه نوعياً الامر الذي تنتهي معه الدائره الي عدم جواز نظر الاعتراض لعدم قابليه الحكم للطعن وتامر بعدم القبول اعمالاً للماده   من نظام المحاكم التجاريه   لذلك '"
      ]
     },
     "execution_count": 55,
     "metadata": {},
     "output_type": "execute_result"
    }
   ],
   "source": [
    "data['incident'][88]"
   ]
  },
  {
   "cell_type": "code",
   "execution_count": 56,
   "id": "be5d6f84",
   "metadata": {},
   "outputs": [
    {
     "data": {
      "text/html": [
       "<div>\n",
       "<style scoped>\n",
       "    .dataframe tbody tr th:only-of-type {\n",
       "        vertical-align: middle;\n",
       "    }\n",
       "\n",
       "    .dataframe tbody tr th {\n",
       "        vertical-align: top;\n",
       "    }\n",
       "\n",
       "    .dataframe thead th {\n",
       "        text-align: right;\n",
       "    }\n",
       "</style>\n",
       "<table border=\"1\" class=\"dataframe\">\n",
       "  <thead>\n",
       "    <tr style=\"text-align: right;\">\n",
       "      <th></th>\n",
       "      <th>links</th>\n",
       "      <th>court</th>\n",
       "      <th>court_id</th>\n",
       "      <th>court_date</th>\n",
       "      <th>appeal_court</th>\n",
       "      <th>appeal_id</th>\n",
       "      <th>appeal_date</th>\n",
       "      <th>region</th>\n",
       "      <th>city</th>\n",
       "      <th>judgment_text</th>\n",
       "      <th>appeal_text</th>\n",
       "      <th>appeal_data</th>\n",
       "      <th>appleal_text</th>\n",
       "      <th>Verdict</th>\n",
       "      <th>incident</th>\n",
       "    </tr>\n",
       "  </thead>\n",
       "  <tbody>\n",
       "  </tbody>\n",
       "</table>\n",
       "</div>"
      ],
      "text/plain": [
       "Empty DataFrame\n",
       "Columns: [links, court, court_id, court_date, appeal_court, appeal_id, appeal_date, region, city, judgment_text, appeal_text, appeal_data, appleal_text, Verdict, incident]\n",
       "Index: []"
      ]
     },
     "execution_count": 56,
     "metadata": {},
     "output_type": "execute_result"
    }
   ],
   "source": [
    "data[data['incident'].isnull()]"
   ]
  },
  {
   "cell_type": "markdown",
   "id": "3e1cb479",
   "metadata": {},
   "source": [
    "## Stemming"
   ]
  },
  {
   "cell_type": "code",
   "execution_count": 57,
   "id": "9120ec32",
   "metadata": {},
   "outputs": [],
   "source": [
    "st = ISRIStemmer()\n",
    "def streem(f):\n",
    "    return st.stem(f)\n",
    "#data['Verdict'] = data['Verdict'].map(streem)\n",
    "data['incident'] = data['incident'].map(streem)"
   ]
  },
  {
   "cell_type": "code",
   "execution_count": 58,
   "id": "2575571b",
   "metadata": {},
   "outputs": [
    {
     "data": {
      "text/plain": [
       "' الدائره  بعدم اختصاص المحاكم التجاريه نوعياً بنظر هذه الدعوي وهي من اختصاص المحكمه العامه  عضو يوسف بن محمد بن قاسم جعفري عضو بندر بن حمد بن علي التويجري رئيس الدائره عبدالعزيز بن سليمان الغيث'"
      ]
     },
     "execution_count": 58,
     "metadata": {},
     "output_type": "execute_result"
    }
   ],
   "source": [
    "data['Verdict'][10]"
   ]
  },
  {
   "cell_type": "markdown",
   "id": "a18cf0b2",
   "metadata": {},
   "source": [
    "# Stop words "
   ]
  },
  {
   "cell_type": "code",
   "execution_count": 59,
   "id": "d3a2fdb1",
   "metadata": {},
   "outputs": [],
   "source": [
    "stopwords = nltk.corpus.stopwords.words('arabic')"
   ]
  },
  {
   "cell_type": "code",
   "execution_count": 60,
   "id": "7c5059f4",
   "metadata": {},
   "outputs": [
    {
     "data": {
      "text/plain": [
       "True"
      ]
     },
     "execution_count": 60,
     "metadata": {},
     "output_type": "execute_result"
    }
   ],
   "source": [
    "'و' in stopwords"
   ]
  },
  {
   "cell_type": "code",
   "execution_count": 61,
   "id": "a6b5f054",
   "metadata": {},
   "outputs": [],
   "source": [
    "word_st = 'الحمد','لله','تعالي','التوفيق','وصلي','الله','وسلم','علي','نبينا','محمد','اله','وصحبه','اجمعين','عضو','رئيس','الدائره','المحكمه','المحاكم','الحمد','والصلاه','والسلام','القضيه','رقم','لعام','سجل','القاضي','الموافق','المدعي','وكيل','الوكاله','المحاماه','المحاكم','بن','محكمة'"
   ]
  },
  {
   "cell_type": "code",
   "execution_count": 62,
   "id": "69b08e4f",
   "metadata": {},
   "outputs": [],
   "source": [
    "for i in range(len(word_st)):\n",
    "    stopwords.append(word_st[i])"
   ]
  },
  {
   "cell_type": "code",
   "execution_count": 63,
   "id": "2f9bb5ca",
   "metadata": {},
   "outputs": [],
   "source": [
    "word_st2 = 'رسول','ﷲ','و','العقد','الحكم','الدعوي','للمحاكم','منطوقه','منطوق'"
   ]
  },
  {
   "cell_type": "code",
   "execution_count": 64,
   "id": "5445e2dc",
   "metadata": {},
   "outputs": [],
   "source": [
    "for i in range(len(word_st2)):\n",
    "    stopwords.append(word_st2[i])"
   ]
  },
  {
   "cell_type": "code",
   "execution_count": 65,
   "id": "f0a8286f",
   "metadata": {},
   "outputs": [],
   "source": [
    "#data['Verdict'] = data['Verdict'].apply(lambda t: \" \".join(word for word in t.split() if word not in stopwords))"
   ]
  },
  {
   "cell_type": "code",
   "execution_count": 66,
   "id": "3746c897",
   "metadata": {},
   "outputs": [
    {
     "data": {
      "text/plain": [
       "' الدائره  بالزام المدعي عليها شركه عماد للتجاره والمقاولات لاصحابها صالح غرم ﷲ ابوعدله الغامدي واولاده   سجل تجاري رقم  بان تدفع للمدعيه مصنع بن زقر للمواد العازله   سجل تجاري رقم  مبلغاً قدره مائه وثلاثه وسبعون الفاً وسبعمائه وسبعه وستون ريالاً    عضو   معاذ بن حمد بن محمد الزيدان  عضو   معاذ بن سامي بن عبدالعزيز العبدالقادر رئيس الدائره  مالك بن محمد بن عبداللطيف الملحم'"
      ]
     },
     "execution_count": 66,
     "metadata": {},
     "output_type": "execute_result"
    }
   ],
   "source": [
    "data['Verdict'][100]"
   ]
  },
  {
   "cell_type": "code",
   "execution_count": 67,
   "id": "86cc38a2",
   "metadata": {},
   "outputs": [],
   "source": [
    "data['incident'] = data['incident'].apply(lambda t: \" \".join(word for word in t.split() if word not in stopwords))"
   ]
  },
  {
   "cell_type": "code",
   "execution_count": 68,
   "id": "92956555",
   "metadata": {
    "scrolled": false
   },
   "outputs": [
    {
     "data": {
      "text/plain": [
       "'حمد اما فلدي التجاريه الحاديه وبناء المقامه شركه بنوه للمقاولات تجاري ضد شركه الخليج للتاثيث المحدوده عبدالرحيم بندر العثمان رئيسا الوقائع تتلخص وقائع يكفي لاصدار ان وكاله تقدم الي بصحيفه دعوي جاء نصه اتفقت شركه بنوه شركه الخليج توريد وتركيب قواطع لكليه الهندسه بجامعه حائل وذلك بتاريخ وقد استلمت عليها المدعيه دفعه مقدمه قدرها اربعمائه وسبع وستون الفا وستمائه وسبع وثلاثون ريالا وقد تاخرت عليها تنفيذ التزاماتها ولكون صاحبه المشروع جامعه حائل استبعدت عليها فقد تعهدت عليها باعاده الدفعه المقدمه المسلمه دفعات تاخير او مماطله الا ان عليها تسدد الدفعه المسلمه سوي مبلغ مائتين وخمسين الف وتبقي ذمتها مبلغ مائتين وسبعه الفا وستمائه وسبع وثلاثون لذا نطلب يلي الزام عليها بسداد المبلغ المذكور الزام عليها بسداد بمبلغ قدره الف مقابل اتعاب ادعي وارفق ضمن الصحيفه يراه سندا لدعواه عباره المبرم الطرفين والمؤرخ الشيك المسحوب مصرف الراجحي برقم وتاريخ وقدره اربعمائه وسبع وستون الفا وستمائه وسبع وثلاثون ريالا الشيك المسحوب البنك الاهلي برقم وتاريخ وقدره مائه الف سندي القبض الصادره المدعيه برقم وتاريخ ورقم وتاريخ بقيمه وعشرون الف لكل منهما خطاب الاستبعاد الصادر جامعه حائل وقد سجلت صحيفه قضيه سجلات بالرقم الوارد مستهل واحيلت الي فتم نظرها النحو الوارد محاضر الضبط وملف عقدت عده جلسات حاصل جاء مرافعه ان سالت المدعيه دعوي موكلته فاحال الي صحيفه ومرفقاتها مبينا ان عليها استلمت المبلغ كاملا اتفق الطرفان فسخ ولم تعد عليها كامل المبلغ وبقي ذمتها المبلغ وبعرض دعواه عليها اجاب بان المبلغ المتبقي للمدعيه مائه وسبعه وستون الفا وستمائه وسبعه وثلاثون ريالا فقط مبينا ان الطرفين اتفقا بالفعل فسخ ان يحسم المدعيه مبلغ قدره الف وعلي ان يكون اعاده المبلغ مجزا وكان الاتفاق شفهيا وبعرض ذكره المدعيه طلب عليها تقديم البينه فاستمهل عليها لاحضار بينته جري افهام عليها بتعديل وكالته لتكون صادره مدير الشركه فاستعد بذلك وجهت عليها عبر اجراء الترافع الكتابي بتاريخ بتقديم البينه اتفاق الطرفين حسم مبلغ فاجاب عليها عبر الترافع الكتابي بتاريخ بان الاتفاق خصم المبلغ شفهيا يثبت سندات القبض المقدمه والتي توضح المبلغ المتبقي خصم القسط واخر سند قبض تم استلامه بتاريخ ليكون المبلغ المتبقي وتم سداد ثلاثه اقساط بعدها ليتبقي مبلغ اجاب وفي جلسه اليوم المنعقده عبر الاتصال المرئي حضر المدعيه بموجب حضر لحضوره عليها بموجب وباطلاع وكاله الحاضر عليها تبين انها صادره عبد عبد المحسن عبد العبد الكريم بوصفه شريكا الشركه عليها وطلب المدعيه الفصل وقرر الاكتفاء سبق وبعد دراسه رات صلاحيه الفصل الاسباب بناء سبق رصده ولان المدعيه تهدف دعواها الي الزام عليها بمبلغ قدره مائتين وسبعه الفا وستمائه وسبع وثلاثون وفق تقدم بيانه وقدم سندا لدعواه المبرم الطرفين المؤرخ والشيك المحرر لصالح عليها والمسحوب مصرف الراجحي برقم وتاريخ بمبلغ قدره اربعمائه وسبع وستون الفا وستمائه وسبع وثلاثون ريالا وخطاب الاستبعاد الصادر جامعه حائل والخاص بالمدعي عليها ولان عليها تنازع صحه التعاقد والفسخ اللاحق وقررت بقاء رصيد دائن لصالح المدعيه قدره مائه وسبعه وستون الفا وستمائه وسبعه وثلاثون ريالا ودفعت بسداد زاد عنه وحصول الاتفاق حسم مبلغ قدره المديونيه ولم تقدم بينتها السداد او الحسم ولان المدعيه شركه نظاميه وقد منعت لوائح نظام التجاريه توجيه الايمان الشخصيات الاعتباريه ولان المدعيه طلبت بمصروفات التقاضي وبناء الماده اللائحه التنفيذيه لنظام التجاريه فان تقدر تعويض المدعيه بنسبه قدرها المبلغ المحكوم لذا فقد'"
      ]
     },
     "execution_count": 68,
     "metadata": {},
     "output_type": "execute_result"
    }
   ],
   "source": [
    "data['incident'][70]"
   ]
  },
  {
   "cell_type": "code",
   "execution_count": 69,
   "id": "a211fe2e",
   "metadata": {},
   "outputs": [
    {
     "data": {
      "text/plain": [
       "' الدائره  بعدم اختصاص المحاكم التجاريه نوعياً بنظر هذه الدعوي وهي من اختصاص المحكمه العامه  عضو يوسف بن محمد بن قاسم جعفري عضو بندر بن حمد بن علي التويجري رئيس الدائره عبدالعزيز بن سليمان الغيث'"
      ]
     },
     "execution_count": 69,
     "metadata": {},
     "output_type": "execute_result"
    }
   ],
   "source": [
    "data['Verdict'][10]"
   ]
  },
  {
   "cell_type": "code",
   "execution_count": 70,
   "id": "4f739d61",
   "metadata": {},
   "outputs": [],
   "source": [
    "result = data['Verdict'].str.split('اختصاص المحكمه',expand=True)[1]"
   ]
  },
  {
   "cell_type": "code",
   "execution_count": 71,
   "id": "c76bcb47",
   "metadata": {},
   "outputs": [
    {
     "data": {
      "text/plain": [
       " العامه عضو يوسف محمد قاسم جعفري عضو بندر حمد التويجري رئيس الدائره عبدالعزيز سليمان الغيث                                                                                                                                                                                                                                                                                                                                                                                                                                                                                                                                                                                                                                                                                                                                                                                                                                                                                                                                                                                                                                                                                                                                                                                                                                                                                                                                                                                                                                                                                                                                                                                                                                                                                                                                                                                                                                                                                                                                                                                                                                                                                                                                                                                                                                                                                                                                                                                                                                                                                                                                                                                                                                                                                                                                                                                                                                                                                                                                                                                                                                                                                                                                                                                                                                                                                                                                                                                                                                                                                                                                                                                                                                                                                                                                                                                                                                                                                                                                                                                                                                                                                                                                                                                                                                                                                                                                                                                                                                                                                                                                                                                                                                                                                                                                                                                                                                                                                                                                                                                                                                                                                                                                                                                                                                                                                                                                                                                                                                                                                                                                                                                                                                                                                                                                                                                                                                                                                                                                                                                                                                                                                                                                                                                                                                                                                                                                                                                                                                                                                                                                                                                                                                                                                                                                                                                                                                                                                                                                                                                                                                                                                                                                                                                                                                                                                                                                                                                                                                                                                                                                                                                                                                                                                                                                                                                                                                                                                                                                                                                                                                                                                                                                                                                                                                                                                                                                                                                                                                                                                                                                                                                                                                                                                                                                                                                                                                                                                                                                                                                                                                                                                                                                                                                                                                                                                                                                                                                                                                                                                                                                                                                                                                                                                                                                                                                                                                                                                                                                                                                                                                                                                                                                                                                                                                                                                                                                                                                                                                                                                                                                                                                                                                                                                                                                                                                                                   2\n",
       " التجاريه نوعيًا بنظر الدعوي رقم  لعام  والمقامه المدعي قاسم حسين المكحل الهويه الوطنيه رقم ضد المدعي فاطمه بنت حسين الشيخ الهويه الوطنيه رقم وﷲ الموفق والهادي سواء السبيل وصلي ﷲ وسلم نبينا محمد اله وصحبه اجمعين عضو فيصل احمد الزهراني عضو عبدالعزيز عبدالرحمن صالح الراجح رئيس الدائره عبدﷲ عبدالرحمن اليابس                                                                                                                                                                                                                                                                                                                                                                                                                                                                                                                                                                                                                                                                                                                                                                                                                                                                                                                                                                                                                                                                                                                                                                                                                                                                                                                                                                                                                                                                                                                                                                                                                                                                                                                                                                                                                                                                                                                                                                                                                                                                                                                                                                                                                                                                                                                                                                                                                                                                                                                                                                                                                                                                                                                                                                                                                                                                                                                                                                                                                                                                                                                                                                                                                                                                                                                                                                                                                                                                                                                                                                                                                                                                                                                                                                                                                                                                                                                                                                                                                                                                                                                                                                                                                                                                                                                                                                                                                                                                                                                                                                                                                                                                                                                                                                                                                                                                                                                                                                                                                                                                                                                                                                                                                                                                                                                                                                                                                                                                                                                                                                                                                                                                                                                                                                                                                                                                                                                                                                                                                                                                                                                                                                                                                                                                                                                                                                                                                                                                                                                                                                                                                                                                                                                                                                                                                                                                                                                                                                                                                                                                                                                                                                                                                                                                                                                                                                                                                                                                                                                                                                                                                                                                                                                                                                                                                                                                                                                                                                                                                                                                                                                                                                                                                                                                                                                                                                                                                                                                                                                                                                                                                                                                                                                                                                                                                                                                                                                                                                                                                                                                                                                                                                                                                                                                                                                                                                                                                                                                                                                                                                                                                                                                                                                                                                                                                                                                                                                                                                                                                                                                                                                                                                                                                                                                                                                                                                                                                                                                                                                                                                                            2\n",
       " التجاريه ولائيًا بطلب المدعي رفع اسمه من سمه وذلك لما هو مبيّن في اسباب الحكم وبﷲ التوفيق وصلي ﷲ وسلم علي نبينا محمد واله وصحبه وسلم حرر في   الموفق وصلي ﷲ وسلم علي نبينا محمد وعلي اله وصحبه اجمعين  رئيس الدائره  عبدﷲ بن شامان ال مغيره                                                                                                                                                                                                                                                                                                                                                                                                                                                                                                                                                                                                                                                                                                                                                                                                                                                                                                                                                                                                                                                                                                                                                                                                                                                                                                                                                                                                                                                                                                                                                                                                                                                                                                                                                                                                                                                                                                                                                                                                                                                                                                                                                                                                                                                                                                                                                                                                                                                                                                                                                                                                                                                                                                                                                                                                                                                                                                                                                                                                                                                                                                                                                                                                                                                                                                                                                                                                                                                                                                                                                                                                                                                                                                                                                                                                                                                                                                                                                                                                                                                                                                                                                                                                                                                                                                                                                                                                                                                                                                                                                                                                                                                                                                                                                                                                                                                                                                                                                                                                                                                                                                                                                                                                                                                                                                                                                                                                                                                                                                                                                                                                                                                                                                                                                                                                                                                                                                                                                                                                                                                                                                                                                                                                                                                                                                                                                                                                                                                                                                                                                                                                                                                                                                                                                                                                                                                                                                                                                                                                                                                                                                                                                                                                                                                                                                                                                                                                                                                                                                                                                                                                                                                                                                                                                                                                                                                                                                                                                                                                                                                                                                                                                                                                                                                                                                                                                                                                                                                                                                                                                                                                                                                                                                                                                                                                                                                                                                                                                                                                                                                                                                                                                                                                                                                                                                                                                                                                                                                                                                                                                                                                                                                                                                                                                                                                                                                                                                                                                                                                                                                                                                                                                                                                                                                                                                                                                                                                                                                                                                                                                                                                                                                                 1\n",
       " التجاريه نوعيًا بنظر هذه الدعوي رقم   لعام   وهي من                                                                                                                                                                                                                                                                                                                                                                                                                                                                                                                                                                                                                                                                                                                                                                                                                                                                                                                                                                                                                                                                                                                                                                                                                                                                                                                                                                                                                                                                                                                                                                                                                                                                                                                                                                                                                                                                                                                                                                                                                                                                                                                                                                                                                                                                                                                                                                                                                                                                                                                                                                                                                                                                                                                                                                                                                                                                                                                                                                                                                                                                                                                                                                                                                                                                                                                                                                                                                                                                                                                                                                                                                                                                                                                                                                                                                                                                                                                                                                                                                                                                                                                                                                                                                                                                                                                                                                                                                                                                                                                                                                                                                                                                                                                                                                                                                                                                                                                                                                                                                                                                                                                                                                                                                                                                                                                                                                                                                                                                                                                                                                                                                                                                                                                                                                                                                                                                                                                                                                                                                                                                                                                                                                                                                                                                                                                                                                                                                                                                                                                                                                                                                                                                                                                                                                                                                                                                                                                                                                                                                                                                                                                                                                                                                                                                                                                                                                                                                                                                                                                                                                                                                                                                                                                                                                                                                                                                                                                                                                                                                                                                                                                                                                                                                                                                                                                                                                                                                                                                                                                                                                                                                                                                                                                                                                                                                                                                                                                                                                                                                                                                                                                                                                                                                                                                                                                                                                                                                                                                                                                                                                                                                                                                                                                                                                                                                                                                                                                                                                                                                                                                                                                                                                                                                                                                                                                                                                                                                                                                                                                                                                                                                                                                                                                                                                                                                                                         1\n",
       " التجاريه بالرياض مكانياً بنظر الدعوي عضو عبدالرحمن عبدﷲ سلامه عضو فراس عبدﷲ عبدالرحمن العجلان رئيس الدائره خالد عبدﷲ الشمرا                                                                                                                                                                                                                                                                                                                                                                                                                                                                                                                                                                                                                                                                                                                                                                                                                                                                                                                                                                                                                                                                                                                                                                                                                                                                                                                                                                                                                                                                                                                                                                                                                                                                                                                                                                                                                                                                                                                                                                                                                                                                                                                                                                                                                                                                                                                                                                                                                                                                                                                                                                                                                                                                                                                                                                                                                                                                                                                                                                                                                                                                                                                                                                                                                                                                                                                                                                                                                                                                                                                                                                                                                                                                                                                                                                                                                                                                                                                                                                                                                                                                                                                                                                                                                                                                                                                                                                                                                                                                                                                                                                                                                                                                                                                                                                                                                                                                                                                                                                                                                                                                                                                                                                                                                                                                                                                                                                                                                                                                                                                                                                                                                                                                                                                                                                                                                                                                                                                                                                                                                                                                                                                                                                                                                                                                                                                                                                                                                                                                                                                                                                                                                                                                                                                                                                                                                                                                                                                                                                                                                                                                                                                                                                                                                                                                                                                                                                                                                                                                                                                                                                                                                                                                                                                                                                                                                                                                                                                                                                                                                                                                                                                                                                                                                                                                                                                                                                                                                                                                                                                                                                                                                                                                                                                                                                                                                                                                                                                                                                                                                                                                                                                                                                                                                                                                                                                                                                                                                                                                                                                                                                                                                                                                                                                                                                                                                                                                                                                                                                                                                                                                                                                                                                                                                                                                                                                                                                                                                                                                                                                                                                                                                                                                                                                                                                                 1\n",
       " العامه  عضو يوسف بن محمد بن قاسم جعفري عضو بندر بن حمد بن علي التويجري رئيس الدائره عبدالعزيز بن سليمان الغيث                                                                                                                                                                                                                                                                                                                                                                                                                                                                                                                                                                                                                                                                                                                                                                                                                                                                                                                                                                                                                                                                                                                                                                                                                                                                                                                                                                                                                                                                                                                                                                                                                                                                                                                                                                                                                                                                                                                                                                                                                                                                                                                                                                                                                                                                                                                                                                                                                                                                                                                                                                                                                                                                                                                                                                                                                                                                                                                                                                                                                                                                                                                                                                                                                                                                                                                                                                                                                                                                                                                                                                                                                                                                                                                                                                                                                                                                                                                                                                                                                                                                                                                                                                                                                                                                                                                                                                                                                                                                                                                                                                                                                                                                                                                                                                                                                                                                                                                                                                                                                                                                                                                                                                                                                                                                                                                                                                                                                                                                                                                                                                                                                                                                                                                                                                                                                                                                                                                                                                                                                                                                                                                                                                                                                                                                                                                                                                                                                                                                                                                                                                                                                                                                                                                                                                                                                                                                                                                                                                                                                                                                                                                                                                                                                                                                                                                                                                                                                                                                                                                                                                                                                                                                                                                                                                                                                                                                                                                                                                                                                                                                                                                                                                                                                                                                                                                                                                                                                                                                                                                                                                                                                                                                                                                                                                                                                                                                                                                                                                                                                                                                                                                                                                                                                                                                                                                                                                                                                                                                                                                                                                                                                                                                                                                                                                                                                                                                                                                                                                                                                                                                                                                                                                                                                                                                                                                                                                                                                                                                                                                                                                                                                                                                                                                                                                                               1\n",
       " التجاريه بالمدينه المنوره نوعياً بنظر الدعوي موضح بالاسباب وصلي ﷲ وسلم نبينا محمد اله وصحبه اجمعين عضو يحيي محمد السحيباني عضو احمد عبدﷲ الساعدي رئيس الدائره ماهر مصلح الجه                                                                                                                                                                                                                                                                                                                                                                                                                                                                                                                                                                                                                                                                                                                                                                                                                                                                                                                                                                                                                                                                                                                                                                                                                                                                                                                                                                                                                                                                                                                                                                                                                                                                                                                                                                                                                                                                                                                                                                                                                                                                                                                                                                                                                                                                                                                                                                                                                                                                                                                                                                                                                                                                                                                                                                                                                                                                                                                                                                                                                                                                                                                                                                                                                                                                                                                                                                                                                                                                                                                                                                                                                                                                                                                                                                                                                                                                                                                                                                                                                                                                                                                                                                                                                                                                                                                                                                                                                                                                                                                                                                                                                                                                                                                                                                                                                                                                                                                                                                                                                                                                                                                                                                                                                                                                                                                                                                                                                                                                                                                                                                                                                                                                                                                                                                                                                                                                                                                                                                                                                                                                                                                                                                                                                                                                                                                                                                                                                                                                                                                                                                                                                                                                                                                                                                                                                                                                                                                                                                                                                                                                                                                                                                                                                                                                                                                                                                                                                                                                                                                                                                                                                                                                                                                                                                                                                                                                                                                                                                                                                                                                                                                                                                                                                                                                                                                                                                                                                                                                                                                                                                                                                                                                                                                                                                                                                                                                                                                                                                                                                                                                                                                                                                                                                                                                                                                                                                                                                                                                                                                                                                                                                                                                                                                                                                                                                                                                                                                                                                                                                                                                                                                                                                                                                                                                                                                                                                                                                                                                                                                                                                                                                                                                                                                                1\n",
       " لانتفاء ولايتها بسبب نوع الدعوي قيمتها الدفع بعدم قبول الدعوي لانعدام الصفه الاهليه المصلحه سبب اخر الدفع بعدم جواز نظر الدعوي لسبق الفصل يجوز الدفع مرحله تكون الدعوي وتحكم المحكمه واستناداً الماده  نظام المرافعات الشرعيه ايضاً جاء نصها يقبل طلب دفع تكون لصاحبه مصلحه اشترطت الماده بقولها لصاحبه صاحب صفه الدعوي واستناداً قرره الفقهاء بالاجماع اشتراط تكون الدعوي صاحب الحق يرفعها الحق ينظر كشاف القناع  والانصاف  يضاف قرره الفقهاء بقولهم لابد يكون المدعي والمدعي اصيلاً الدعوي يدعي يدافع يكن المدعي والمدعي تسمع الدعوي تسمع انتهي كلامهم رحمهم ﷲ ينظر كشاف القناع  والانصاف  نرفق لفضيلتكم سابقه قضائيه تنطبق تماماً الدعوي حكم صادر المحكمه التجاريه بتاريخ  انتهي اصحاب الفضيله عدم قبول الدعوي لاقامتها صفه سبق موكلتي تطلب يلي عدم قبول دعوي المدعيه والحكم برد دعواها ارفق حكما قضائياً تسلم وكيل المدعي نسخه وطلب مهله للرد وطلبت الدائره وكيل المدعي تقديم الرد سته ايام جلسه  الجلسه تشير الدائره وكيل المدعي تقدم بمذكره تضمنت ورداً قدمه وكيل المدعي اوجز يلي ذكره وكيل المدعي التعاقد تم موكلتي وشركه بلاسبرو صحيح وبسبب تاخر العمل بالمشروع المقاول الاساسي يتاخر بتسليم الدفعات الحاله والمستحقه لموكلتي ارسلت المدعي خطاب شركه بلاسبرو السعوديه للمقاولات مطبوعات شركه الرياض للتعمير برقم  وتاريخ  مفاده تعهد المدعي شركه الرياض للتعمير بسداد مستحقات المقاولين المشار الخطاب موكلتي ستقوم بالتعامل المباشر وتعهدت بسداد مستحقاتهم لسرعه تسليم المشروع  وبناء ابدت شركه بلاسبرو موافقتها طلبت المدعي شركه بلاسبرو بخطاب الحاقي تزويدها باسماء مقاولين الباطن تتم سداد مستحقاتهم بتاريخ  تم ارسال بيان يوضح حقوق المقاولين بالباطن تضمن البيان اجمالي حقوق موكلتي خمسه ملايين وخمسمائه وسته الاف وستمائه وواحد وخمسون ريال  اصحاب الفضيله يخفي فضيلتكم اقوال الفقهاء تعهد اداء الحقوق وان المدعي الزمت باداء مستحقات موكلتي اصبح للمدعي الصفه الكامله الدعوي وانزلت منزله المدين وبناء سبق اطلب فضيلتكم يلي الزام المدعي بدفع المتبقي قيمه العقد وقدره خمسه ملايين وخمسمائه وسته الاف وستمائه وواحد وخمسون  كونها الزمت الزام المدعي بدفع تكبدته موكلتي اتعاب المحاماه وقدرها خمسمائه واربعون الف ريال  وبناء رفعت الجلسه للمداوله واصدرت الدائره حكمها مبنياً يلي الاسباب كانت العلاقه الطرفين تتعلق بعقد مقاولات تاجرين المدعي كفيله كفاله تجاريه للمُتعاقد المدعي حدد نظام المحكمه التجاريه ونظام المرافعات الشرعيه يختص القضاء التجاري بنظره النزاعات وحصرها يحدث التجار علاقه تجاريه مشاكل ومنازعات متولده امور تجاريه محضه بالتبعيه يتعلق بالشراكات يكون النزاع الماثل داخلٌ اختصاص المحاكم التجاريه المقرر الفقه والقضاء الدعوي تقام المحكمه تقع نطاق محل اقامه المدعي تبين مقر المدعي بالرياض المحكمه تكون مختصه بنظر الدعوي مكانياً وفقاً للماده  نظام المرافعات الشرعيه الموضوع وكيل المدعي يطلب الزام المدعي بدفع مبلغ قدره  ريال يمثل قيمه اعمال مقاولات اعمال مشروع مستودعات التبريد والتجميد العزيزيه تاسيساً العقد شركه بلاسبرو السعوديه للمقاولات خطاب شركه بلاسبرو السعوديه للمقاولات الموجه لشركه الرياض للتعمير المتضمن استحقاق المدعي لمبلغ قدره  ريال المؤرخ  خطاب المدعي لشركه بلاسبرو السعوديه للمقاولات المؤرخ  المتضمن تعهد المدعي بسداد كافه حقوق المقاولين المتعاقدين الباطن شركه بلاسبرو السعوديه للمقاولات المدعي ستتعامل بشكل مباشر لسداد مستحقاتهم خصماً مستحقات شركه بلاسبرو السعوديه للمقاولات المدعي تطعن الخطاب المقدم المدعي تدفع بعدم الصفه الخطاب الصادر المدعي يدل كون المدعي كفيله كفاله غرم واداء سداد استحقاق المدعي تعاقد شركه بلاسبرو السعوديه للمقاولات تنتهي الدائره حكمها الزام المدعي بالمبلغ منطوق الحكم بالزام شركه الرياض للتعمير سجل تجاري رقم تدفع عبدالعزيز ابراهيم محمد العواد سجل مدني رقم صاحب مؤسسه عبدالعزيز ابراهيم العواد للمقاولات سجل تجاري رقم مبلغاً قدره  خمسه ملايين واربعمئه وسته الاف وستمئه وواحد وخمسون ريالاً عضو عبدﷲ سليمان العرم عضو عاصم ابراهيم محمد الجريوي رئيس الدائره عبدالمحسن عبدالعزيز الجليفي                                                                                                                                                                                                                                                                                                                                                                                                                                                                                                                                                                                                                                                                                                                                                                                                                                                                                                                                                                                                                                                                                                                                                                                                                                                                                                                                                                                                                                                                                                                                                                                                                                                                                                                                                                                                                                                                                                                                                                                                                                                                                                                                                                                                                                                                                                                                                                                                                                                                                                                                                                                                                                                                                                                                                                                                                                                                                                                                                                                                                                                                                                                                                                                                                                                                                                                                                                                                                                                                                                                                                                                                                                                                                                                                                                                                                                                                                                                                                                                                                                                                                                                                                                                                                                                                                                                                                                                                                                                                                                                                                                                                                                                                                                                                                                                                                                                                                                                                                                                                                                                                                                                                                                                                                                                                                                                                                                                                                                                                                                                                                                                                                                                                                                                                                                                                                                                                                                                                                                                                                                                                                                                                                                                                                                                                                                                                                                                                                                                                                                                                                                                                                                                                                                                                                                                                                                                                                                                                                                                                                                                                                                                                                                                           1\n",
       " التجاريه بالمدينه المنوره نوعياً بنظر الدعوي لما هو موضح بالاسباب وصلي ﷲ وسلم علي نبينا محمد وعلي اله وصحبه اجمعين  عضو   يحيي بن محمد السحيباني  عضو   احمد بن عبدﷲ الساعدي رئيس الدائره ماهر بن مصلح الجهني                                                                                                                                                                                                                                                                                                                                                                                                                                                                                                                                                                                                                                                                                                                                                                                                                                                                                                                                                                                                                                                                                                                                                                                                                                                                                                                                                                                                                                                                                                                                                                                                                                                                                                                                                                                                                                                                                                                                                                                                                                                                                                                                                                                                                                                                                                                                                                                                                                                                                                                                                                                                                                                                                                                                                                                                                                                                                                                                                                                                                                                                                                                                                                                                                                                                                                                                                                                                                                                                                                                                                                                                                                                                                                                                                                                                                                                                                                                                                                                                                                                                                                                                                                                                                                                                                                                                                                                                                                                                                                                                                                                                                                                                                                                                                                                                                                                                                                                                                                                                                                                                                                                                                                                                                                                                                                                                                                                                                                                                                                                                                                                                                                                                                                                                                                                                                                                                                                                                                                                                                                                                                                                                                                                                                                                                                                                                                                                                                                                                                                                                                                                                                                                                                                                                                                                                                                                                                                                                                                                                                                                                                                                                                                                                                                                                                                                                                                                                                                                                                                                                                                                                                                                                                                                                                                                                                                                                                                                                                                                                                                                                                                                                                                                                                                                                                                                                                                                                                                                                                                                                                                                                                                                                                                                                                                                                                                                                                                                                                                                                                                                                                                                                                                                                                                                                                                                                                                                                                                                                                                                                                                                                                                                                                                                                                                                                                                                                                                                                                                                                                                                                                                                                                                                                                                                                                                                                                                                                                                                                                                                                                                                                                                                                                               1\n",
       " التجاريه نوعياً بنظر الدعوي وبالله التوفيق وصلي ﷲ وسلم نبينا محمد اله وصحبه اجمعين رئيس الدائره عبدالعزيز محمد الشبيب                                                                                                                                                                                                                                                                                                                                                                                                                                                                                                                                                                                                                                                                                                                                                                                                                                                                                                                                                                                                                                                                                                                                                                                                                                                                                                                                                                                                                                                                                                                                                                                                                                                                                                                                                                                                                                                                                                                                                                                                                                                                                                                                                                                                                                                                                                                                                                                                                                                                                                                                                                                                                                                                                                                                                                                                                                                                                                                                                                                                                                                                                                                                                                                                                                                                                                                                                                                                                                                                                                                                                                                                                                                                                                                                                                                                                                                                                                                                                                                                                                                                                                                                                                                                                                                                                                                                                                                                                                                                                                                                                                                                                                                                                                                                                                                                                                                                                                                                                                                                                                                                                                                                                                                                                                                                                                                                                                                                                                                                                                                                                                                                                                                                                                                                                                                                                                                                                                                                                                                                                                                                                                                                                                                                                                                                                                                                                                                                                                                                                                                                                                                                                                                                                                                                                                                                                                                                                                                                                                                                                                                                                                                                                                                                                                                                                                                                                                                                                                                                                                                                                                                                                                                                                                                                                                                                                                                                                                                                                                                                                                                                                                                                                                                                                                                                                                                                                                                                                                                                                                                                                                                                                                                                                                                                                                                                                                                                                                                                                                                                                                                                                                                                                                                                                                                                                                                                                                                                                                                                                                                                                                                                                                                                                                                                                                                                                                                                                                                                                                                                                                                                                                                                                                                                                                                                                                                                                                                                                                                                                                                                                                                                                                                                                                                                                                                       1\n",
       " التجاريه بالرياض مكانياً بنظر هذه الدعوي وصلي ﷲ علي نبينا محمد وعلي اله وصحبه وسلم   عضو  عبدالعزيز بن سليمان الغيث عضو  يوسف بن محمد بن قاسم جعفري رئيس الدائره  جمال بن فاضل العمري                                                                                                                                                                                                                                                                                                                                                                                                                                                                                                                                                                                                                                                                                                                                                                                                                                                                                                                                                                                                                                                                                                                                                                                                                                                                                                                                                                                                                                                                                                                                                                                                                                                                                                                                                                                                                                                                                                                                                                                                                                                                                                                                                                                                                                                                                                                                                                                                                                                                                                                                                                                                                                                                                                                                                                                                                                                                                                                                                                                                                                                                                                                                                                                                                                                                                                                                                                                                                                                                                                                                                                                                                                                                                                                                                                                                                                                                                                                                                                                                                                                                                                                                                                                                                                                                                                                                                                                                                                                                                                                                                                                                                                                                                                                                                                                                                                                                                                                                                                                                                                                                                                                                                                                                                                                                                                                                                                                                                                                                                                                                                                                                                                                                                                                                                                                                                                                                                                                                                                                                                                                                                                                                                                                                                                                                                                                                                                                                                                                                                                                                                                                                                                                                                                                                                                                                                                                                                                                                                                                                                                                                                                                                                                                                                                                                                                                                                                                                                                                                                                                                                                                                                                                                                                                                                                                                                                                                                                                                                                                                                                                                                                                                                                                                                                                                                                                                                                                                                                                                                                                                                                                                                                                                                                                                                                                                                                                                                                                                                                                                                                                                                                                                                                                                                                                                                                                                                                                                                                                                                                                                                                                                                                                                                                                                                                                                                                                                                                                                                                                                                                                                                                                                                                                                                                                                                                                                                                                                                                                                                                                                                                                                                                                                                                                       1\n",
       " التجاريه نوعيًا بنظر الدعوي رقم   لعام   والمقامه من المدعي قاسم بن حسين بن علي المكحل ذي الهويه الوطنيه رقم ضد المدعي عليها فاطمه بنت حسين الشيخ ذي الهويه الوطنيه رقم  وﷲ الموفق والهادي الي سواء السبيل وصلي ﷲ وسلم علي نبينا محمد وعلي اله وصحبه اجمعين  عضو فيصل بن احمد الزهراني  عضو عبدالعزيز بن عبدالرحمن بن صالح الراجح  رئيس الدائره عبدﷲ بن عبدالرحمن اليابس                                                                                                                                                                                                                                                                                                                                                                                                                                                                                                                                                                                                                                                                                                                                                                                                                                                                                                                                                                                                                                                                                                                                                                                                                                                                                                                                                                                                                                                                                                                                                                                                                                                                                                                                                                                                                                                                                                                                                                                                                                                                                                                                                                                                                                                                                                                                                                                                                                                                                                                                                                                                                                                                                                                                                                                                                                                                                                                                                                                                                                                                                                                                                                                                                                                                                                                                                                                                                                                                                                                                                                                                                                                                                                                                                                                                                                                                                                                                                                                                                                                                                                                                                                                                                                                                                                                                                                                                                                                                                                                                                                                                                                                                                                                                                                                                                                                                                                                                                                                                                                                                                                                                                                                                                                                                                                                                                                                                                                                                                                                                                                                                                                                                                                                                                                                                                                                                                                                                                                                                                                                                                                                                                                                                                                                                                                                                                                                                                                                                                                                                                                                                                                                                                                                                                                                                                                                                                                                                                                                                                                                                                                                                                                                                                                                                                                                                                                                                                                                                                                                                                                                                                                                                                                                                                                                                                                                                                                                                                                                                                                                                                                                                                                                                                                                                                                                                                                                                                                                                                                                                                                                                                                                                                                                                                                                                                                                                                                                                                                                                                                                                                                                                                                                                                                                                                                                                                                                                                                                                                                                                                                                                                                                                                                                                                                                                                                                                                                                                                                                                                                                                                                                                                                                                                                                                                                                                                                                                                                                                                                                                    1\n",
       " التجاريه نوعيًا بنظر الدعوي رقم  لعام                                                                                                                                                                                                                                                                                                                                                                                                                                                                                                                                                                                                                                                                                                                                                                                                                                                                                                                                                                                                                                                                                                                                                                                                                                                                                                                                                                                                                                                                                                                                                                                                                                                                                                                                                                                                                                                                                                                                                                                                                                                                                                                                                                                                                                                                                                                                                                                                                                                                                                                                                                                                                                                                                                                                                                                                                                                                                                                                                                                                                                                                                                                                                                                                                                                                                                                                                                                                                                                                                                                                                                                                                                                                                                                                                                                                                                                                                                                                                                                                                                                                                                                                                                                                                                                                                                                                                                                                                                                                                                                                                                                                                                                                                                                                                                                                                                                                                                                                                                                                                                                                                                                                                                                                                                                                                                                                                                                                                                                                                                                                                                                                                                                                                                                                                                                                                                                                                                                                                                                                                                                                                                                                                                                                                                                                                                                                                                                                                                                                                                                                                                                                                                                                                                                                                                                                                                                                                                                                                                                                                                                                                                                                                                                                                                                                                                                                                                                                                                                                                                                                                                                                                                                                                                                                                                                                                                                                                                                                                                                                                                                                                                                                                                                                                                                                                                                                                                                                                                                                                                                                                                                                                                                                                                                                                                                                                                                                                                                                                                                                                                                                                                                                                                                                                                                                                                                                                                                                                                                                                                                                                                                                                                                                                                                                                                                                                                                                                                                                                                                                                                                                                                                                                                                                                                                                                                                                                                                                                                                                                                                                                                                                                                                                                                                                                                                                                                                                       1\n",
       " التجاريه نوعياً بنظر هذه الدعوي  وبالله التوفيق وصلي ﷲ وسلم علي نبينا محمد وعلي اله وصحبه اجمعين  رئيس الدائره عبدالعزيز بن محمد الشبيب                                                                                                                                                                                                                                                                                                                                                                                                                                                                                                                                                                                                                                                                                                                                                                                                                                                                                                                                                                                                                                                                                                                                                                                                                                                                                                                                                                                                                                                                                                                                                                                                                                                                                                                                                                                                                                                                                                                                                                                                                                                                                                                                                                                                                                                                                                                                                                                                                                                                                                                                                                                                                                                                                                                                                                                                                                                                                                                                                                                                                                                                                                                                                                                                                                                                                                                                                                                                                                                                                                                                                                                                                                                                                                                                                                                                                                                                                                                                                                                                                                                                                                                                                                                                                                                                                                                                                                                                                                                                                                                                                                                                                                                                                                                                                                                                                                                                                                                                                                                                                                                                                                                                                                                                                                                                                                                                                                                                                                                                                                                                                                                                                                                                                                                                                                                                                                                                                                                                                                                                                                                                                                                                                                                                                                                                                                                                                                                                                                                                                                                                                                                                                                                                                                                                                                                                                                                                                                                                                                                                                                                                                                                                                                                                                                                                                                                                                                                                                                                                                                                                                                                                                                                                                                                                                                                                                                                                                                                                                                                                                                                                                                                                                                                                                                                                                                                                                                                                                                                                                                                                                                                                                                                                                                                                                                                                                                                                                                                                                                                                                                                                                                                                                                                                                                                                                                                                                                                                                                                                                                                                                                                                                                                                                                                                                                                                                                                                                                                                                                                                                                                                                                                                                                                                                                                                                                                                                                                                                                                                                                                                                                                                                                                                                                                                                                     1\n",
       " التجاريه بالرياض بنظر هذه الدعوي وبسؤال وكيل المدعيه عن دعوي موكلته احال علي ما ورد في صحيفه الدعوي والمتضمنه الزام المدعي عليه بدفع مبلغ قدره   ريال ناتجه عن توريد عماله للمدعي عليها وبطلب الجواب من وكيل المدعي عليها طلب مهله للرد فافهمته الدائره بتقديم رده الكترونيا خلال خمسه ايام من تاريخه علي ان تقدم المدعيه ردها خلال خمسه ايام التاليه لذلك ففهم الطرفان ذلك ثم قدم وكيل المدعي عليها مذكره نصت علي ندفع بعدم جواز نظر الدعوي لوجود شرط التحكيم حيث انه بمجرد الاطلاع علي العقد سند دعوي المدعيه سوف يبدو لفضيلتكم جلياً في البند الحادي عشر فقره   والذي جاء فيه ما نصه وفي حاله عدم مقدره الطرفان في حل النزاع تتم تسويه النزاع عن طريق التحكيم في مدينه الرياض وبذلك قد تنتفي ولايه القضاء علي الدعوي لتنظر من قبل هيئه تحكيم يتوافق عليها الاطراف قبل تقديم اي دفوع موضوعيه في الدعوي وذلك استناد لنظام التحكيم السعودي حيث نصت الفقره   من الماده الحاديه عشر من نظام التحكيم السعودي الصادر بموجب المرسوم الملكي رقم   وتاريخ   والذي ينص علي يجب علي المحكمه التي يرفع اليها نزاع يوجد في شانه اتفاق تحكيم ان تحكم بعدم جواز نظر الدعوي اذا دفع المدعي عليه بذلك قبل اي طلب او دفاع في الدعويوفقاً للوائح التحكيم التي نص عليها الامر الملكي رقم    وقواعد التحكيم التي نص عليها قرار مجلس الوزراء رقم   الدفوع الموضوعيه ان جميع المستندات التي ارفقتها المدعيه صور ضوئيه والصور الضوئيه لا ترقي لان تكون بينه صحيحه حتي يتم مضاهاتها مع الاصل حيث نصت الماده  السابعه والاربعون بعد المائه  من نظام المرافعات الشرعيه اذا كان اصل الورقه الرسميه موجوداً فان الصوره التي نقلت منها خطياً تصويراً وصدرت عن موظف عام في حدود اختصاصه صدق علي مطابقتها لاصلها  تكون لها قوه الورقه الرسميه الاصليه بالقدر الذي يقرر فيه بمطابقه الصوره للاصل وتعد الصوره المصدقه مطابقه للاصل مالم ينازع في ذلك احد الخصوم وفي هذه الحاله تراجع الصوره علي الاصل وكل صوره غير مصدقه بما يفيد مطابقتها لاصلها لا تصلح للاحتجاج وفقاً لما قررته هيئه التدقيق بديوان المظالم  مبدا رقم   لعام   لا حجيه لصور تلك المستندات ولا قيمه لها في الاثبات الا بمقدار  ما تهدي الي الاصل اذا كان موجوداً فيرجع اليه اما اذا كان غير موجود فلا سبيل للاحتجاج وعليه لا تكون ايه قيمه للصور في الاثبات الا بمقدار ما تهدي الي الاصل اذا كان موجودا فيرجع اليه اما اذا كان الاصل غير موجود فلا سبيل للاحتجاج بالصوره اذ هي لا تحمل توقيع من صدرت منه والتوقيع بالامضاء او بصمه الختم او ببصمه الاصبع هي المصدر القانوني الوحيد لاضفاء الحجيه علي الاوراق العرفيه وعليه فتكون دعوي المدعيه بلا سند يؤيدها او يعضدها والمدعيه يقع عليه عبء اثبات دعواها والمحكمه غير ملزمه بلفت نظرها لموجبات دفاعها مما يجدر معه رفض هذه الدعوي لخلوها من المستندات المؤيد او الداله علي صحه الادعاء ان المدعيه ارفقت ضمن مستنداتها شهادات دفع فضلاً عن كونها صوره ضوئيه وعلي مطبوعات المدعيه فهي لا تعدو عن كونها بيان عن قيمه تعامل سابق ولا تشير من قريب او من بعيد عن مبلغ المطالبه موضوع دعوي المدعيه كما ان المبالغ المدونه فيها تختلف قيمتها عن مبلغ المطالبه مما يجعل دعوي المدعيه غير متطابقه مع ما ارفقته من مستندات حيث انه بمطالعه اوراق الدعوي سوف يتبين ان المدعيه لم تقدم ما يشفع لها نظاماً من بينات وفقا لقواعد الاثبات في اصدار حكم قضائي لمصلحتها لان الحكم القضائي يجب ان ينبني علي الحجج والبراهين والاسانيد الفقهيه والمدعيه لم تقدم دليلاً مادياً يؤكد دعواها والحقوق يجب ان تقوم علي دليل الطلبات اولاً اصلياً الحكم بعدم جواز نظر الدعوي لوجود شرط التحكيم ثانياً وبصفه احتياطيه الحكم برفض دعوي المدعيه لعدم الصحه والثبوت وفي جلسه   تبين حضور وكيل المدعي عليها في حين لم يتبين حضور المدعيه او من يمثلها رغم تبلغها بهذه الجلسه كما يظهر من محضر الجلسه السابقه فطلب وكيل المدعي عليها شطب الدعوي للمره الاولي ثم تقدم المدعي وكاله بطلب اعاده النظر في القضيه تقدم به خلال المده النظاميه برقم   وتاريخ   وبناء عليه قررت الدائره تحديد موعد لاعاده النظر في القضيه وفي جلسه   تبين حضور اطراف الدعوي وتشير الدائره الي محضر الشطب في الجلسه الماضيه وانعقاد هذه الجلسه بناء علي تقدم المدعيه بطلب اعاده النظر في القضيه وقد طلبت وكيله المدعيه امكانيه تبادل المذكرات حتي تتمكن من تقديم ردها علي مذكره المدعي عليها وباطلاع الدائره علي ما قدمته المدعي عليها في مذكرتها المؤرخه في   تبين انها دفعت بشرط التحكيم ودفعت موضوعا بطلب الزام المدعيه بتقديم اصول المستندات حتي تتحقق من المطالبه وبسؤال وكيله المدعيه عما يثبت مبلغ المطالبه ذكرت ان موكلتها تستند علي سته اوامر صرف علي النحو التالي شهاده سداد رقم     فبراير تفيد استحقاق موكلتي مبلغا وقدره   اربعمائه وتسعه عشر الف وتسعه وثمانون ريال وشهاده سدادتفيد استحقاق موكلتي مبلغا وقدره   مائه وتسعه وثلاثون الفا وسبعه وثلاثون ريال وشهاده سداد رقم   مارس تفيد استحقاق موكلتي مبلغ وقدره   ثلاثمائه وسبعه عشر الف وثمانمائه واربع وثمانون ريال وشهاده سداد برقم     ابريلتفيد استحقاق موكلي مبلغ وقدره   ثلاثمائه وعشره الاف وثلاثمائه واربعون ريال وشهاده برقم   وتاريخ   يونيوتفيد استحقاق موكلتي مبلغ وقدره   مئه وسته عشر الفا واربعمائه واثنان وعشرين ريال وخمسون هلله وشهاده برقم   وتاريخ   يونيوتفيد استحقاق موكلتي مبلغ وقدره   مائه وواحد وخمسون الف وثمانمائه واثنان وتسعون ريال وخمسون هلله وشهاده برقم   وتاريخ   اكتوبر تفيد استحقاق موكلتي مبلغ وقدره   ثلاثه الاف وسبع مائه وواحد ريال وبعرض ذلك علي وكيل المدعي عليها ذكر ان موكلته تدفع بالسداد وان موكلته سددت للمدعيه مستحقاتها فطلبت الدائره من وكيل المدعي عليها تقديم بينه موكلته علي السداد وذلك خلال خمسه ايام علي ان تقدم وكيله المدعيه ردها خلال خمسه ايام اخري بواقع مذكرتين لكل طرف فقدمت المدعي عليها مذكره بتاريخ   لم تتضمن جديدًا ولم تخرج عما سبق تقديمه ولم تتضمن ما استمهلت المدعي عليها من اجله بشان بينتها علي دعوي السداد بينما قدمت المدعيه في تاريخ   مذكره نصت علي ما ذكرته المدعي عليها بان مبلغ المطالبه مخالف للشهادات المرفقه فهو غير صحيح والصحيح هو شهاده سداد رقم     فبراير   تفيد استحقاق موكلتي مبلغ وقدره   اربعمائه وتسعه عشر الف وتسع وثمانون ريال وشهاده سداد رقم     مارس   تفيد استحقاق موكلتي مبلغ وقدره   ثلاثمائه وسبعه عشر الف وثمانمائه واربع وثمانون ريال وشهاده سداد برقم     ابريل   تفيد استحقاق موكلي مبلغ وقدره   ثلاثمائه وعشره الاف وثلاثمائه واربعون ريال وشهاده برقم   وتاريخ   يونيو   تفيد استحقاق موكلتي مبلغ وقدره   مئه وسته عشر الف واربعمائه واثنان وعشرين ريال وخمسون هلله وشهاده برقم   وتاريخ   يونيو   تفيد استحقاق موكلتي مبلغ وقدره   مائه وواحد وخمسون الف وثمانمائه واثنان وتسعون  ريال وخمسون هلله وشهاده برقم   وتاريخ   اكتوبر   تفيد استحقاق موكلتي مبلغ وقدره   ثلاثه الاف وسبع مائه وواحد ريال وبناءً علي ما سبق اطلب الزام المدعي عليها دفع مبلغ وقدره   مليون وثلاثمائه وتسع وستون الف وثلاثمائه وثمان عشرون ريال وخمس هللات واتعاب محاماه نسبه   من اجمالي مبلغ المطالبه وقدره   ريال وفي جلسه   تبين حضور وكيله المدعيه في حين لم يتبين حضور من يمثل المدعي عليها رغم تبلغها بموعد هذه الجلسه كما يظهر من محضر الجلسه الماضيه وطلبت وكيله المدعيه الحكم لموكلتها بمبلغ المطالبه وقدره   مليون وثلاثمائه وتسعه وستون الفا وثلاثمائه وثمانيه وعشرون ريالا وخمسه هللات بالاضافه الي اتعاب المحاماه وقدرها   ثمانيه وستون الفا واربعمائه وسته وستون ريالا خمسه وتسعون هلله بما يعادل   من مبلغ المطالبه وبناء عليه رفعت الجلسه للمداوله واصدار الحكم   الاسباب تاسيسًا علي ما تقدم ولما كانت المدعيه قد انتهت فيما تهدف اليه من اقامه هذه الدعوي الي المطالبه بالزام المدعي عليها بسداد مبلغ قدره   مليون وثلاثمائه وتسعه وستون الفا وثلاثمائه وثمانيه وعشرون ريالا وخمس هللات كما قررت ذلك وكيلتها في جلسه اليوم وحيث ان هذه المطالبه قد نتجت عن قيام المدعيه بتامين عدد من العماله للقيام باعمال مسانده لصالح الشركه المدعي عليها وعليه فان هذه الدعوي تعد نزاعًا بين تاجرين وفي عمل ذي طبيعه تجاريه وقد اصبح هذا النزاع داخلاً ضمن اختصاص هذه الدائره بموجب ما قررته الدائره السابعه في المحكمه العليا بقرارها رقم   وتاريخ   بعد ان حكمت الدائره في هذه الدعوي ابتداءً بعدم الاختصاص النوعي بتاريخ   واما من جهه الموضوع فلما كانت المدعيه تطالب بما تقدم في صدر هذا التسبيب واسندت دعواها بسته اوامر صرف علي النحو الذي تم تفصيله وضبطه في الجلسه المنعقده بتاريخ   وحيث ان المدعي عليها لم تنازع المدعيه في صحه العلاقه التعاقديه وانما دفعت الدعوي اولاً بشرط التحكيم ثم في جلسه   دفعت الدعوي بانها قامت بسداد مبلغ المطالبه للمدعيه فاما عن الدفع بشرط التحكيم فقد سقط حق المدعي عليها بالدفع به بناءً علي تخلفها عن حضور الجلسه الاولي رغم تبلغها لشخصها بموعدها عن طريق نظام ابشر فلهذا لم يعد الدفع بالتحكيم قائمًا اذ هو من الدفوع المؤقته التي تسقط عند التخلف عن حضور الجلسه الاولي مع التبلغ بها كما نصت علي ذلك الماده التاسعه والتسعون من اللائحه التنفيذيه لنظام المحاكم التجاريه اذا تبلغ المدعي عليه لشخصه  وفق احكام النظام  ولم يحضر فيسقط حقه في الدفع باي من الدفوع المؤقته واما عن الدفع بالسداد فان مقتضي هذا الدفع هو الاقرار بانشغال الذمه بمديونيه المدعيه محل المطالبه فصار علي المدعي عليها تقديم البينه الناقله عن هذا الاصل وعلي هذا الاساس استمهلت لتقديم البينه لكن المدعي عليها لم تقدم بينتها علي دعوي السداد رغم استمهالها الدائره من اجل ذلك فاصبحت دعوي السداد مرسله بلا دليل وصارت قضيه انشغال الذمه سالمه ومحفوظه عما ينالها من معارض كما ان المدعي عليها قد تخلفت عن حضور جلسه اليوم رغم تبلغها بالجلسه فصار تخلفها كالاقرار الضمني بحق المدعيه وقرينه مرجحه لسقوط دعوي السداد اذ لو لم يكن الامر كذلك لما فوتت المدعي عليها علي نفسها  اثناء تبادل المذكرات او بحضور جلسه اليوم  ان تتقدم بما ينال من مطالبه المدعيه الامر الذي تنتهي معه الدائره الي الحكم للمدعيه بموجب ما قدمته من اوامر الصرف بعد ان تحققت الدائره من انطباقها مع مبلغ المطالبه وتضمنها له وبموجب الاقرار الضمني بالمطالبه بعد انتفاء دعوي السداد التي لم تغير من الاصل الثابت بانشغال الذمه وقد قررت الدائره السير في الدعوي حضوريا والحكم بحكم حضوري في مواجهه المدعي عليها  بعد تخلفها عن الحضور  بناء علي ما نصت عليه الماده   من نظام المحاكم التجاريه اذا تبلغ المدعي عليه لشخصه او وكليه او حضر اي منهما في اي جلسه امام المحكمه او قدم مذكره بدفاعه عُدّت الخصومه حضوريه ولو تخلف بعد ذلك وبه تقضي واما عن اتعاب الترافع بما قدره    ثمانيه وستون الفا واربعمائه وسته وستون ريالا خمسه وتسعون هلله بما يعادل   من مبلغ المطالبه فان الدائره لم تجد مانعًا من الحكم للمدعيه باتعاب الترافع حيث ثبت  من خلال ما تقدم  ان المدعي عليها قد احوجت المدعيه الي الشكايه ودفعتها الي اللجوء الي القضاء وقد استقر القضاء التجاري علي الحكم باتعاب الترافع مع توفر هذا المعني في الواقعه كما انه قد صدرت جمله من احكام القضاء التجاري بالحكم بما نسبته   من المبلغ المحكوم به كاتعاب ترافع فهذه النسبه تتفق مع هذه الاحكام التي اصبحت في حكم المستقر في القضاء التجاري كما ان المدعيه قد ارفقت ضمن صحيفه الدعوي عقد اتعابها مع المحامي فلهذا رات الدائره  باعتبارها الخبير الاول  ان الحكم بهذه النسبه هو الاليق بهذه الاعتبارات السالف ذكرها وبموجبها تقضي وفق منطوقها ادناه      منطوق الحكم  حكمت الدائره بالزام ايه بي في روك جروب المحدوده سجل تجاري رقم  بان تدفع لساره بنت عبدالعزيز بن سعد بن سويري سجل مدني رقم  صاحبه مؤسسه ساره عبدالعزيز بن سويري للمقاولات سجل تجاري رقم  مبلغا قدره   مليون وثلاثمائه وتسعه وستون الفا وثلاثمائه وثمانيه وعشرون ريالا وخمسه هللات بالاضافه الي اتعاب المحاماه وقدرها   ثمانيه وستون الفا واربعمائه وسته وستون ريالا خمسه وتسعون هلله لما هو موضحٌ بالاسباب وبﷲ التوفيق وصلي ﷲ علي نبينا محمد وعلي اله وصحبه وسلم   عضو  ياسر بن عبدالرحمن ال عتيق عضو  عبدﷲ بن احمد الفرحان رئيس الدائره  عمر بن عبدالعزيز بن سليمان الصبي    1\n",
       " العامه   منطوق الحكم حكمت الدائره بعدم                                                                                                                                                                                                                                                                                                                                                                                                                                                                                                                                                                                                                                                                                                                                                                                                                                                                                                                                                                                                                                                                                                                                                                                                                                                                                                                                                                                                                                                                                                                                                                                                                                                                                                                                                                                                                                                                                                                                                                                                                                                                                                                                                                                                                                                                                                                                                                                                                                                                                                                                                                                                                                                                                                                                                                                                                                                                                                                                                                                                                                                                                                                                                                                                                                                                                                                                                                                                                                                                                                                                                                                                                                                                                                                                                                                                                                                                                                                                                                                                                                                                                                                                                                                                                                                                                                                                                                                                                                                                                                                                                                                                                                                                                                                                                                                                                                                                                                                                                                                                                                                                                                                                                                                                                                                                                                                                                                                                                                                                                                                                                                                                                                                                                                                                                                                                                                                                                                                                                                                                                                                                                                                                                                                                                                                                                                                                                                                                                                                                                                                                                                                                                                                                                                                                                                                                                                                                                                                                                                                                                                                                                                                                                                                                                                                                                                                                                                                                                                                                                                                                                                                                                                                                                                                                                                                                                                                                                                                                                                                                                                                                                                                                                                                                                                                                                                                                                                                                                                                                                                                                                                                                                                                                                                                                                                                                                                                                                                                                                                                                                                                                                                                                                                                                                                                                                                                                                                                                                                                                                                                                                                                                                                                                                                                                                                                                                                                                                                                                                                                                                                                                                                                                                                                                                                                                                                                                                                                                                                                                                                                                                                                                                                                                                                                                                                                                                                                                      1\n",
       " لانتفاء ولايتها او بسبب نوع الدعوي او قيمتها او الدفع بعدم قبول الدعوي لانعدام الصفه او الاهليه او المصلحه او لاي سبب اخر وكذا الدفع بعدم جواز نظر الدعوي لسبق الفصل فيها يجوز الدفع به في اي مرحله تكون فيها الدعوي وتحكم به المحكمه من تلقاء نفسها  واستناداً علي الماده   من نظام المرافعات الشرعيه ايضاً والتي جاء في نصها لا يقبل اي طلب او دفع لا تكون لصاحبه فيه مصلحه اذ اشترطت الماده بقولها لصاحبه اي صاحب صفه في الدعوي واستناداً الي ما قرره الفقهاء بالاجماع علي اشتراط ان تكون الدعوي من صاحب الحق يرفعها علي من عليه الحق ينظر كشاف القناع   والانصاف   يضاف لذلك ما قرره الفقهاء بقولهم لابد ان يكون المدعي والمدعي عليه كل منهما اصيلاً في الدعوي بان يدعي لنفسه او يدافع عنها فان لم يكن المدعي والمدعي عليه كذلك فلا تسمع منه الدعوي ولا تسمع عليه انتهي كلامهم رحمهم ﷲ ينظر  كشاف القناع   والانصاف    كما نرفق لفضيلتكم سابقه قضائيه تنطبق تماماً علي هذه الدعوي حكم صادر من المحكمه التجاريه بتاريخ   انتهي فيه اصحاب الفضيله الي عدم قبول الدعوي لاقامتها علي غير ذي صفه ولجميع ما سبق فان موكلتي تطلب ما يلي عدم قبول دعوي المدعيه والحكم برد دعواها  ارفق بها حكما قضائياً تسلم وكيل المدعي نسخه منها  وطلب مهله للرد وطلبت الدائره من وكيل المدعي تقديم الرد خلال سته ايام   وفي جلسه    وفي هذه الجلسه تشير الدائره الي ان كل وكيل المدعي تقدم بمذكره تضمنت  ورداً علي ما قدمه وكيل المدعي عليها اوجز ما يلي ما ذكره وكيل المدعي عليها من ان التعاقد قد تم بين موكلتي وشركه بلاسبرو فهذا صحيح وبسبب تاخر العمل بالمشروع لان المقاول الاساسي كان يتاخر بتسليم الدفعات الحاله والمستحقه لموكلتي ارسلت المدعي عليها خطاب الي شركه بلاسبرو السعوديه للمقاولات وذلك علي مطبوعات شركه الرياض للتعمير برقم   وتاريخ   والذي مفاده تعهد المدعي عليها شركه الرياض للتعمير بسداد مستحقات المقاولين المشار لهم في ذات الخطاب ومنهم موكلتي وانها ستقوم بالتعامل المباشر معهم وتعهدت بسداد مستحقاتهم لسرعه تسليم المشروع   وبناء عليها ابدت شركه بلاسبرو موافقتها علي ذلك كما طلبت المدعي عليها من شركه بلاسبرو بخطاب الحاقي تزويدها باسماء مقاولين الباطن الذين لم تتم سداد مستحقاتهم بتاريخ    وعليه تم ارسال بيان يوضح حقوق المقاولين بالباطن وقد تضمن هذا البيان بان اجمالي حقوق موكلتي هو خمسه ملايين وخمسمائه وسته الاف وستمائه وواحد وخمسون ريال   اصحاب الفضيله لا يخفي علي فضيلتكم اقوال الفقهاء في من تعهد وضمن اداء الحقوق وان المدعي عليها هي من الزمت نفسها باداء مستحقات موكلتي وهنا اصبح للمدعي عليها الصفه الكامله في الدعوي وانزلت نفسها منزله المدين وبناء علي ما سبق اطلب من فضيلتكم ما يلي  الزام المدعي عليها بدفع المتبقي من قيمه العقد وقدره خمسه ملايين وخمسمائه وسته الاف وستمائه وواحد وخمسون   كونها الزمت نفسها به الزام المدعي عليها بدفع ما تكبدته موكلتي من اتعاب المحاماه وقدرها خمسمائه واربعون الف ريال    وبناء عليه رفعت الجلسه للمداوله  واصدرت الدائره حكمها مبنياً علي ما يلي    الاسباب ولما كانت العلاقه بين الطرفين تتعلق بعقد مقاولات بين تاجرين  المدعي عليها كفيله كفاله تجاريه للمُتعاقد مع المدعي  وحيث حدد نظام المحكمه التجاريه ونظام المرافعات الشرعيه ما يختص القضاء التجاري بنظره من النزاعات وحصرها فيما يحدث بين التجار ومن لهم بهم علاقه تجاريه من مشاكل ومنازعات متولده من امور تجاريه محضه او بالتبعيه او ما يتعلق بالشراكات ومن ثم يكون النزاع الماثل داخلٌ ضمن اختصاص المحاكم التجاريه  ولما كان المقرر في الفقه والقضاء ان الدعوي تقام امام المحكمه التي تقع في نطاق محل اقامه المدعي عليها  وحيث تبين ان مقر المدعي عليها بالرياض  فان هذه المحكمه تكون مختصه بنظر هذه الدعوي مكانياً  وفقاً للماده   من نظام المرافعات الشرعيه   وعن الموضوع  فانه لما كان وكيل المدعي يطلب الزام المدعي عليها بدفع مبلغ قدره   ريال  والذي يمثل قيمه اعمال مقاولات عن اعمال مشروع مستودعات التبريد والتجميد في العزيزيه  تاسيساً منه علي العقد الذي بينه وبين شركه بلاسبرو السعوديه للمقاولات  و علي خطاب شركه بلاسبرو السعوديه للمقاولات الموجه لشركه الرياض للتعمير  المتضمن استحقاق المدعي لمبلغ قدره   ريال  المؤرخ في    وكذلك خطاب المدعي عليها لشركه بلاسبرو السعوديه للمقاولات المؤرخ في    المتضمن تعهد المدعي عليها بسداد كافه حقوق المقاولين المتعاقدين من الباطن مع شركه بلاسبرو السعوديه للمقاولات  وان المدعي عليها ستتعامل بشكل مباشر معهم لسداد مستحقاتهم خصماً من مستحقات شركه بلاسبرو السعوديه للمقاولات  وحيث ان المدعي عليها لم تطعن في الخطاب المقدم من المدعي  الا انها تدفع بعدم الصفه  ولما كان الخطاب الصادر عن المدعي عليها يدل علي كون المدعي عليها كفيله كفاله غرم واداء في سداد استحقاق المدعي وغيره ممن تعاقد مع شركه بلاسبرو السعوديه للمقاولات  مما تنتهي الدائره في حكمها الي الزام المدعي عليها بالمبلغ     منطوق الحكم بالزام شركه الرياض للتعمير  سجل تجاري رقم   بان تدفع ل عبدالعزيز بن ابراهيم بن محمد العواد  سجل مدني رقم   صاحب مؤسسه عبدالعزيز ابراهيم العواد للمقاولات  سجل تجاري رقم   مبلغاً قدره   خمسه ملايين واربعمئه وسته الاف وستمئه وواحد وخمسون ريالاً    عضو  عبدﷲ بن سليمان العرم عضو  عاصم بن ابراهيم محمد الجريوي رئيس الدائره  عبدالمحسن بن عبدالعزيز الجليفي                                                                                                                                                                                                                                                                                                                                                                                                                                                                                                                                                                                                                                                                                                                                                                                                                                                                                                                                                                                                                                                                                                                                                                                                                                                                                                                                                                                                                                                                                                                                                                                                                                                                                                                                                                                                                                                                                                                                                                                                                                                                                                                                                                                                                                                                                                                                                                                                                                                                                                                                                                                                                                                                                                                                                                                                                                                                                                                                                                                                                                                                                                                                                                                                                                                                                                                                                                                                                                                                                                                                                                                                                                                                                                                                                                                                                                                                                                                                                                                                                                                                                                                                                                                                                                                                                                                                                                                                                                                                                                                                                                                                                                                                                                                                                                                                                                                                                                                                                                                                                                                                                                                                                                                                                                                                                                                                                                                                                                                                                                                                                                                                                                                                                                                                                                                                                                                                                                                                                                                                                                                                                                                        1\n",
       " التجاريه بالرياض مكانياً بنظر هذه الدعوي   عضو  عبدالرحمن بن عبدﷲ بن سلامه عضو  فراس بن عبدﷲ بن عبدالرحمن العجلان رئيس الدائره  خالد بن عبدﷲ الشمراني                                                                                                                                                                                                                                                                                                                                                                                                                                                                                                                                                                                                                                                                                                                                                                                                                                                                                                                                                                                                                                                                                                                                                                                                                                                                                                                                                                                                                                                                                                                                                                                                                                                                                                                                                                                                                                                                                                                                                                                                                                                                                                                                                                                                                                                                                                                                                                                                                                                                                                                                                                                                                                                                                                                                                                                                                                                                                                                                                                                                                                                                                                                                                                                                                                                                                                                                                                                                                                                                                                                                                                                                                                                                                                                                                                                                                                                                                                                                                                                                                                                                                                                                                                                                                                                                                                                                                                                                                                                                                                                                                                                                                                                                                                                                                                                                                                                                                                                                                                                                                                                                                                                                                                                                                                                                                                                                                                                                                                                                                                                                                                                                                                                                                                                                                                                                                                                                                                                                                                                                                                                                                                                                                                                                                                                                                                                                                                                                                                                                                                                                                                                                                                                                                                                                                                                                                                                                                                                                                                                                                                                                                                                                                                                                                                                                                                                                                                                                                                                                                                                                                                                                                                                                                                                                                                                                                                                                                                                                                                                                                                                                                                                                                                                                                                                                                                                                                                                                                                                                                                                                                                                                                                                                                                                                                                                                                                                                                                                                                                                                                                                                                                                                                                                                                                                                                                                                                                                                                                                                                                                                                                                                                                                                                                                                                                                                                                                                                                                                                                                                                                                                                                                                                                                                                                                                                                                                                                                                                                                                                                                                                                                                                                                                                                                                                       1\n",
       " التجاريه بالرياض مكانياً بنظر الدعوي وصلي ﷲ نبينا محمد اله وصحبه وسلم عضو عبدالعزيز سليمان الغيث عضو يوسف محمد قاسم جعفري رئيس الدائره جمال فاضل العمري                                                                                                                                                                                                                                                                                                                                                                                                                                                                                                                                                                                                                                                                                                                                                                                                                                                                                                                                                                                                                                                                                                                                                                                                                                                                                                                                                                                                                                                                                                                                                                                                                                                                                                                                                                                                                                                                                                                                                                                                                                                                                                                                                                                                                                                                                                                                                                                                                                                                                                                                                                                                                                                                                                                                                                                                                                                                                                                                                                                                                                                                                                                                                                                                                                                                                                                                                                                                                                                                                                                                                                                                                                                                                                                                                                                                                                                                                                                                                                                                                                                                                                                                                                                                                                                                                                                                                                                                                                                                                                                                                                                                                                                                                                                                                                                                                                                                                                                                                                                                                                                                                                                                                                                                                                                                                                                                                                                                                                                                                                                                                                                                                                                                                                                                                                                                                                                                                                                                                                                                                                                                                                                                                                                                                                                                                                                                                                                                                                                                                                                                                                                                                                                                                                                                                                                                                                                                                                                                                                                                                                                                                                                                                                                                                                                                                                                                                                                                                                                                                                                                                                                                                                                                                                                                                                                                                                                                                                                                                                                                                                                                                                                                                                                                                                                                                                                                                                                                                                                                                                                                                                                                                                                                                                                                                                                                                                                                                                                                                                                                                                                                                                                                                                                                                                                                                                                                                                                                                                                                                                                                                                                                                                                                                                                                                                                                                                                                                                                                                                                                                                                                                                                                                                                                                                                                                                                                                                                                                                                                                                                                                                                                                                                                                                                                                     1\n",
       " التجاريه ولائيًا بطلب المدعي رفع اسمه سمه مبيّن اسباب الحكم وبﷲ التوفيق وصلي ﷲ وسلم نبينا محمد واله وصحبه وسلم حرر  الموفق وصلي ﷲ وسلم نبينا محمد اله وصحبه اجمعين رئيس الدائره عبدﷲ شامان ال مغيره                                                                                                                                                                                                                                                                                                                                                                                                                                                                                                                                                                                                                                                                                                                                                                                                                                                                                                                                                                                                                                                                                                                                                                                                                                                                                                                                                                                                                                                                                                                                                                                                                                                                                                                                                                                                                                                                                                                                                                                                                                                                                                                                                                                                                                                                                                                                                                                                                                                                                                                                                                                                                                                                                                                                                                                                                                                                                                                                                                                                                                                                                                                                                                                                                                                                                                                                                                                                                                                                                                                                                                                                                                                                                                                                                                                                                                                                                                                                                                                                                                                                                                                                                                                                                                                                                                                                                                                                                                                                                                                                                                                                                                                                                                                                                                                                                                                                                                                                                                                                                                                                                                                                                                                                                                                                                                                                                                                                                                                                                                                                                                                                                                                                                                                                                                                                                                                                                                                                                                                                                                                                                                                                                                                                                                                                                                                                                                                                                                                                                                                                                                                                                                                                                                                                                                                                                                                                                                                                                                                                                                                                                                                                                                                                                                                                                                                                                                                                                                                                                                                                                                                                                                                                                                                                                                                                                                                                                                                                                                                                                                                                                                                                                                                                                                                                                                                                                                                                                                                                                                                                                                                                                                                                                                                                                                                                                                                                                                                                                                                                                                                                                                                                                                                                                                                                                                                                                                                                                                                                                                                                                                                                                                                                                                                                                                                                                                                                                                                                                                                                                                                                                                                                                                                                                                                                                                                                                                                                                                                                                                                                                                                                                                                                                                         1\n",
       "Name: 1, dtype: int64"
      ]
     },
     "execution_count": 71,
     "metadata": {},
     "output_type": "execute_result"
    }
   ],
   "source": [
    "result.value_counts()"
   ]
  },
  {
   "cell_type": "code",
   "execution_count": 72,
   "id": "b06c4b15",
   "metadata": {},
   "outputs": [
    {
     "data": {
      "text/plain": [
       "0       الدائره برفض الدعوي المقامه من شركه بيت الجزي...\n",
       "1       الدائره بعدم قبول هذه الدعوي وﷲ الموفق وصلي ﷲ...\n",
       "2       الدائره غيابيا بالزام خالد جمعه رضا حبش سجل م...\n",
       "3       الدائره  برفض هذه الدعوي   عضو عبدالعزيز بن س...\n",
       "4       الدائره بعدم جواز نظر هذه الدعوي لما هو مبين ...\n",
       "                             ...                        \n",
       "346     الدائره يلي الزام المدعي شركه مجموعه الراجحي ...\n",
       "347     الدائره رفعت الجلسه للمداوله والحكم الاسباب ب...\n",
       "348     صدق الحكم محكمه الاستئناف بتاريخ  اقام موكلي ...\n",
       "349     حكمها ادناه منطوق الحكم الزام المدعي شركه دره...\n",
       "350     الدائره برفض الدعوي عضو عبدالعزيز سليمان الغي...\n",
       "Name: Verdict, Length: 351, dtype: object"
      ]
     },
     "execution_count": 72,
     "metadata": {},
     "output_type": "execute_result"
    }
   ],
   "source": [
    "data['Verdict']"
   ]
  },
  {
   "cell_type": "code",
   "execution_count": 73,
   "id": "5cc67429",
   "metadata": {},
   "outputs": [
    {
     "data": {
      "text/plain": [
       "'التجارية'"
      ]
     },
     "execution_count": 73,
     "metadata": {},
     "output_type": "execute_result"
    }
   ],
   "source": [
    "data.court[3]"
   ]
  },
  {
   "cell_type": "code",
   "execution_count": 74,
   "id": "dcdaee48",
   "metadata": {},
   "outputs": [
    {
     "data": {
      "text/plain": [
       "'\\ndef get_right_court(index, i):\\n    \\n    #for i in data[\\'Verdict\\']:\\n    if \"بعدم اختصاص\"  in i:\\n            #data[\\'right_court\\'] = data[\\'Verdict\\'].str.split(\"من اختصاص المحكمه\",1)[0]  \\n        if \"من اختصاص المحكمه\" in i:\\n            return str.split(i, \"من اختصاص المحكمه\",0)[0]\\n        else:\\n            return 2#None\\n    else:#if \"اختصاص\" not in i:\\n        return  data.loc[data.court[index]]\\n\\n\\ndata[\\'right_court\\'] =data[\\'Verdict\\'].apply(lambda p: get_right_court(p, p.index))\\n'"
      ]
     },
     "execution_count": 74,
     "metadata": {},
     "output_type": "execute_result"
    }
   ],
   "source": [
    "'''\n",
    "def get_right_court(index, i):\n",
    "    \n",
    "    #for i in data['Verdict']:\n",
    "    if \"بعدم اختصاص\"  in i:\n",
    "            #data['right_court'] = data['Verdict'].str.split(\"من اختصاص المحكمه\",1)[0]  \n",
    "        if \"من اختصاص المحكمه\" in i:\n",
    "            return str.split(i, \"من اختصاص المحكمه\",0)[0]\n",
    "        else:\n",
    "            return 2#None\n",
    "    else:#if \"اختصاص\" not in i:\n",
    "        return  data.loc[data.court[index]]\n",
    "\n",
    "\n",
    "data['right_court'] =data['Verdict'].apply(lambda p: get_right_court(p, p.index))\n",
    "'''"
   ]
  },
  {
   "cell_type": "code",
   "execution_count": 75,
   "id": "18b494e7",
   "metadata": {
    "scrolled": true
   },
   "outputs": [
    {
     "data": {
      "text/plain": [
       "'\\ndef get_right_court(index, i):\\n    \\n    #for i in data[\\'Verdict\\']:\\n    if \"بعدم اختصاص\"  in i:\\n            #data[\\'right_court\\'] = data[\\'Verdict\\'].str.split(\"من اختصاص المحكمه\",1)[0]  \\n        if \"من اختصاص المحكمه\" in i:\\n            return str.split(i, \"من اختصاص المحكمه\",0)[0]\\n        else:\\n            return 2#None\\n    else:#if \"اختصاص\" not in i:\\n        return  data.loc[data.court[index]]\\n\\n\\ndata[\\'right_court\\'] =data[\\'Verdict\\'].apply(lambda p,index: get_right_court(p, p.index))\\n'"
      ]
     },
     "execution_count": 75,
     "metadata": {},
     "output_type": "execute_result"
    }
   ],
   "source": [
    "'''\n",
    "def get_right_court(index, i):\n",
    "    \n",
    "    #for i in data['Verdict']:\n",
    "    if \"بعدم اختصاص\"  in i:\n",
    "            #data['right_court'] = data['Verdict'].str.split(\"من اختصاص المحكمه\",1)[0]  \n",
    "        if \"من اختصاص المحكمه\" in i:\n",
    "            return str.split(i, \"من اختصاص المحكمه\",0)[0]\n",
    "        else:\n",
    "            return 2#None\n",
    "    else:#if \"اختصاص\" not in i:\n",
    "        return  data.loc[data.court[index]]\n",
    "\n",
    "\n",
    "data['right_court'] =data['Verdict'].apply(lambda p,index: get_right_court(p, p.index))\n",
    "'''"
   ]
  },
  {
   "cell_type": "code",
   "execution_count": 76,
   "id": "98fb6b23",
   "metadata": {},
   "outputs": [
    {
     "name": "stdout",
     "output_type": "stream",
     "text": [
      "<class 'pandas.core.frame.DataFrame'>\n",
      "Int64Index: 351 entries, 0 to 350\n",
      "Data columns (total 15 columns):\n",
      " #   Column         Non-Null Count  Dtype \n",
      "---  ------         --------------  ----- \n",
      " 0   links          351 non-null    object\n",
      " 1   court          351 non-null    object\n",
      " 2   court_id       351 non-null    object\n",
      " 3   court_date     351 non-null    object\n",
      " 4   appeal_court   307 non-null    object\n",
      " 5   appeal_id      307 non-null    object\n",
      " 6   appeal_date    274 non-null    object\n",
      " 7   region         274 non-null    object\n",
      " 8   city           318 non-null    object\n",
      " 9   judgment_text  351 non-null    object\n",
      " 10  appeal_text    274 non-null    object\n",
      " 11  appeal_data    33 non-null     object\n",
      " 12  appleal_text   33 non-null     object\n",
      " 13  Verdict        351 non-null    object\n",
      " 14  incident       351 non-null    object\n",
      "dtypes: object(15)\n",
      "memory usage: 52.0+ KB\n"
     ]
    }
   ],
   "source": [
    "data.info()"
   ]
  },
  {
   "cell_type": "code",
   "execution_count": 77,
   "id": "dc661053",
   "metadata": {},
   "outputs": [],
   "source": [
    "conditions1 = [\n",
    "    (data['court'] == \"التجارية\"),\n",
    "    (data['court'] == \"العليا\"),\n",
    "    (data['court'] == \"العامة\"),\n",
    "   ]\n",
    "values1 = ['3','2','1']  \n",
    "data['court_y'] = np.select(conditions1,values1)"
   ]
  },
  {
   "cell_type": "code",
   "execution_count": 78,
   "id": "634e9c58",
   "metadata": {},
   "outputs": [
    {
     "data": {
      "text/plain": [
       "0               التجارية\n",
       "1               التجارية\n",
       "2               التجارية\n",
       "3               التجارية\n",
       "4               التجارية\n",
       "             ...        \n",
       "346     المحكمة التجارية\n",
       "347     المحكمة التجارية\n",
       "348     المحكمة التجارية\n",
       "349       المحكمة العامة\n",
       "350     المحكمة التجارية\n",
       "Name: court, Length: 351, dtype: object"
      ]
     },
     "execution_count": 78,
     "metadata": {},
     "output_type": "execute_result"
    }
   ],
   "source": [
    "data['court']"
   ]
  },
  {
   "cell_type": "markdown",
   "id": "edba52a6",
   "metadata": {},
   "source": [
    "# spliting data"
   ]
  },
  {
   "cell_type": "code",
   "execution_count": 79,
   "id": "b7684306",
   "metadata": {},
   "outputs": [],
   "source": [
    "y=data['court_y']\n",
    "X=data['judgment_text']"
   ]
  },
  {
   "cell_type": "code",
   "execution_count": 80,
   "id": "677541a8",
   "metadata": {},
   "outputs": [],
   "source": [
    "X_train, X_test, y_train, y_test = train_test_split(X, y, test_size=0.20, random_state=2)"
   ]
  },
  {
   "cell_type": "code",
   "execution_count": 81,
   "id": "8855a0ef",
   "metadata": {},
   "outputs": [],
   "source": [
    "X_train, X_val, y_train, y_val = train_test_split(X_train, y_train, test_size=0.25, random_state=2)"
   ]
  },
  {
   "cell_type": "code",
   "execution_count": 82,
   "id": "463cedfc",
   "metadata": {},
   "outputs": [
    {
     "data": {
      "text/plain": [
       "'\\nX_val.values.reshape(-1,1)\\nX_train.values.reshape(-1,1)\\ny_train.values.reshape(-1,1)\\n'"
      ]
     },
     "execution_count": 82,
     "metadata": {},
     "output_type": "execute_result"
    }
   ],
   "source": [
    "'''\n",
    "X_val.values.reshape(-1,1)\n",
    "X_train.values.reshape(-1,1)\n",
    "y_train.values.reshape(-1,1)\n",
    "'''"
   ]
  },
  {
   "cell_type": "code",
   "execution_count": 83,
   "id": "402c0a5c",
   "metadata": {},
   "outputs": [
    {
     "name": "stdout",
     "output_type": "stream",
     "text": [
      "Class= 3, n=95 (27.065527065527068%)\n",
      "Class= 1, n=5 (1.4245014245014245%)\n",
      "Class= 0, n=88 (25.071225071225072%)\n",
      "Class= 2, n=22 (6.267806267806268%)\n"
     ]
    }
   ],
   "source": [
    "from collections import Counter\n",
    "counter = Counter(y_train)\n",
    "for k, v in counter.items():\n",
    "    dist = v / len(y) * 100 \n",
    "    print(f\"Class= {k}, n={v} ({dist}%)\")"
   ]
  },
  {
   "cell_type": "markdown",
   "id": "500ce4f2",
   "metadata": {},
   "source": [
    "# Create Bag of words "
   ]
  },
  {
   "cell_type": "code",
   "execution_count": 84,
   "id": "c2fe4feb",
   "metadata": {},
   "outputs": [
    {
     "data": {
      "text/plain": [
       "\"'\\nfrom sklearn.feature_extraction.text import CountVectorizer\\ncv = CountVectorizer(ngram_range=(1, 3))\\n\""
      ]
     },
     "execution_count": 84,
     "metadata": {},
     "output_type": "execute_result"
    }
   ],
   "source": [
    "''''\n",
    "from sklearn.feature_extraction.text import CountVectorizer\n",
    "cv = CountVectorizer(ngram_range=(1, 3))\n",
    "'''"
   ]
  },
  {
   "cell_type": "code",
   "execution_count": 85,
   "id": "db861727",
   "metadata": {},
   "outputs": [],
   "source": [
    "#cv.fit(X_train)"
   ]
  },
  {
   "cell_type": "code",
   "execution_count": 86,
   "id": "7217a946",
   "metadata": {},
   "outputs": [],
   "source": [
    "#len(cv.get_feature_names())"
   ]
  },
  {
   "cell_type": "code",
   "execution_count": 87,
   "id": "9d1b1a5a",
   "metadata": {},
   "outputs": [],
   "source": [
    "#X_train_cv = cv.transform(X_train)\n",
    "#X_val_cv = cv.transform(X_val)"
   ]
  },
  {
   "cell_type": "code",
   "execution_count": 88,
   "id": "9eedc3b0",
   "metadata": {},
   "outputs": [],
   "source": [
    "#X_train_cv"
   ]
  },
  {
   "cell_type": "markdown",
   "id": "8288672b",
   "metadata": {},
   "source": [
    "# smote"
   ]
  },
  {
   "cell_type": "code",
   "execution_count": 90,
   "id": "ec9b6ca6",
   "metadata": {},
   "outputs": [],
   "source": [
    "\n",
    "# from imblearn.over_sampling import SMOTE\n",
    "# oversample = SMOTE(random_state = 0)\n",
    "# X_train_cv, y_train = oversample.fit_resample(X_train_cv, y_train)\n",
    "# ''''"
   ]
  },
  {
   "cell_type": "code",
   "execution_count": null,
   "id": "3555ccbe",
   "metadata": {},
   "outputs": [],
   "source": [
    "\n",
    "# from collections import Counter\n",
    "# counter = Counter(y_train)\n",
    "# for k, v in counter.items():\n",
    "#     dist = v / len(y) * 100 \n",
    "#     print(f\"Class= {k}, n={v} ({dist}%)\")\n",
    " "
   ]
  },
  {
   "cell_type": "markdown",
   "id": "c51f4fab",
   "metadata": {},
   "source": [
    "# TF/IDF"
   ]
  },
  {
   "cell_type": "code",
   "execution_count": 91,
   "id": "086f408b",
   "metadata": {},
   "outputs": [],
   "source": [
    "from sklearn.feature_extraction.text import TfidfVectorizer\n",
    "cv_tfidf = TfidfVectorizer()"
   ]
  },
  {
   "cell_type": "code",
   "execution_count": 92,
   "id": "96f38b59",
   "metadata": {},
   "outputs": [],
   "source": [
    "X_train_tf = cv_tfidf.fit_transform(X_train)\n",
    "X_val_tf = cv_tfidf.transform(X_val)"
   ]
  },
  {
   "cell_type": "code",
   "execution_count": 93,
   "id": "5cdf5c8d",
   "metadata": {},
   "outputs": [
    {
     "data": {
      "text/plain": [
       "<210x16016 sparse matrix of type '<class 'numpy.float64'>'\n",
       "\twith 100756 stored elements in Compressed Sparse Row format>"
      ]
     },
     "execution_count": 93,
     "metadata": {},
     "output_type": "execute_result"
    }
   ],
   "source": [
    "X_train_tf"
   ]
  },
  {
   "cell_type": "markdown",
   "id": "e424028b",
   "metadata": {},
   "source": [
    "#  Logistic Regression "
   ]
  },
  {
   "cell_type": "code",
   "execution_count": 94,
   "id": "7adcc40c",
   "metadata": {},
   "outputs": [
    {
     "name": "stdout",
     "output_type": "stream",
     "text": [
      "Logistic Regression with TF/IDF\n"
     ]
    },
    {
     "data": {
      "text/plain": [
       "0.9714285714285714"
      ]
     },
     "execution_count": 94,
     "metadata": {},
     "output_type": "execute_result"
    }
   ],
   "source": [
    "lgg = LogisticRegression()\n",
    "lgg.fit(X_train_tf, y_train)\n",
    "print('Logistic Regression with TF/IDF')\n",
    "lgg.score(X_train_tf, y_train)"
   ]
  },
  {
   "cell_type": "code",
   "execution_count": 95,
   "id": "d99f1f03",
   "metadata": {},
   "outputs": [
    {
     "data": {
      "text/plain": [
       "0.9285714285714286"
      ]
     },
     "execution_count": 95,
     "metadata": {},
     "output_type": "execute_result"
    }
   ],
   "source": [
    "y_pred_tf = lgg.predict(X_val_tf)\n",
    "lgg.score(X_val_tf, y_val)"
   ]
  },
  {
   "cell_type": "code",
   "execution_count": 96,
   "id": "700a321c",
   "metadata": {},
   "outputs": [
    {
     "name": "stdout",
     "output_type": "stream",
     "text": [
      "              precision    recall  f1-score   support\n",
      "\n",
      "           0       1.00      1.00      1.00        26\n",
      "           1       0.00      0.00      0.00         1\n",
      "           2       1.00      0.56      0.71         9\n",
      "           3       0.87      1.00      0.93        34\n",
      "\n",
      "    accuracy                           0.93        70\n",
      "   macro avg       0.72      0.64      0.66        70\n",
      "weighted avg       0.92      0.93      0.92        70\n",
      "\n"
     ]
    }
   ],
   "source": [
    "print(classification_report(y_val, y_pred_tf))"
   ]
  },
  {
   "cell_type": "markdown",
   "id": "eb717466",
   "metadata": {},
   "source": [
    "# Decision Tree"
   ]
  },
  {
   "cell_type": "code",
   "execution_count": 97,
   "id": "f0e203f7",
   "metadata": {},
   "outputs": [
    {
     "name": "stdout",
     "output_type": "stream",
     "text": [
      "Decision Tree with TF/IDF\n"
     ]
    },
    {
     "data": {
      "text/plain": [
       "1.0"
      ]
     },
     "execution_count": 97,
     "metadata": {},
     "output_type": "execute_result"
    }
   ],
   "source": [
    "de = DecisionTreeClassifier(max_depth=4)\n",
    "de.fit(X_train_tf, y_train)\n",
    "print('Decision Tree with TF/IDF')\n",
    "de.score(X_train_tf, y_train)"
   ]
  },
  {
   "cell_type": "code",
   "execution_count": 98,
   "id": "2ba53fed",
   "metadata": {},
   "outputs": [
    {
     "data": {
      "text/plain": [
       "0.9571428571428572"
      ]
     },
     "execution_count": 98,
     "metadata": {},
     "output_type": "execute_result"
    }
   ],
   "source": [
    "y_pred_tf = de.predict(X_val_tf)\n",
    "de.score(X_val_tf, y_val)"
   ]
  },
  {
   "cell_type": "code",
   "execution_count": 99,
   "id": "b9fa7c0c",
   "metadata": {},
   "outputs": [
    {
     "name": "stdout",
     "output_type": "stream",
     "text": [
      "              precision    recall  f1-score   support\n",
      "\n",
      "           0       1.00      1.00      1.00        26\n",
      "           1       0.33      1.00      0.50         1\n",
      "           2       1.00      0.89      0.94         9\n",
      "           3       0.97      0.94      0.96        34\n",
      "\n",
      "    accuracy                           0.96        70\n",
      "   macro avg       0.83      0.96      0.85        70\n",
      "weighted avg       0.98      0.96      0.96        70\n",
      "\n"
     ]
    }
   ],
   "source": [
    "print(classification_report(y_val, y_pred_tf))"
   ]
  },
  {
   "cell_type": "markdown",
   "id": "19793216",
   "metadata": {},
   "source": [
    "# ____________________________________"
   ]
  },
  {
   "cell_type": "code",
   "execution_count": null,
   "id": "d0941a19",
   "metadata": {},
   "outputs": [],
   "source": []
  },
  {
   "cell_type": "markdown",
   "id": "bd1c135c",
   "metadata": {},
   "source": [
    "# EDA"
   ]
  },
  {
   "cell_type": "code",
   "execution_count": null,
   "id": "ba39232b",
   "metadata": {},
   "outputs": [],
   "source": [
    "d = data['judgment_text'].str.cat(sep=' ')\n",
    "plt.figure(figsize=(12,10))\n",
    "wordcloud_neg = WordCloud(max_font_size=200, background_color=\"white\").generate(d) \n",
    "plt.imshow(wordcloud_neg, interpolation='bilinear')\n",
    "plt.axis('off')\n",
    "plt.title(\"\");"
   ]
  },
  {
   "cell_type": "code",
   "execution_count": null,
   "id": "0bb500f1",
   "metadata": {},
   "outputs": [],
   "source": [
    "zlbl= get_display( arabic_reshaper.reshape('عدد القضايا في محاكم وزارة العدل'))\n",
    "plt.figure(figsize=(10,5))\n",
    "plt.title(zlbl)\n",
    "df_tuple =list(zip(data['court']))\n",
    "first_columns= [get_display( arabic_reshaper.reshape(x[0])) for x in df_tuple]\n",
    "xlbl = get_display( arabic_reshaper.reshape(' أنواع المحاكم '))\n",
    "sns.countplot(x=first_columns, data=data, color='green');\n",
    "plt.xlabel(xlbl, fontdict=None, labelpad=None)\n",
    "plt.tight_layout()\n",
    "plt.show()"
   ]
  }
 ],
 "metadata": {
  "kernelspec": {
   "display_name": "Python 3",
   "language": "python",
   "name": "python3"
  },
  "language_info": {
   "codemirror_mode": {
    "name": "ipython",
    "version": 3
   },
   "file_extension": ".py",
   "mimetype": "text/x-python",
   "name": "python",
   "nbconvert_exporter": "python",
   "pygments_lexer": "ipython3",
   "version": "3.8.8"
  }
 },
 "nbformat": 4,
 "nbformat_minor": 5
}
